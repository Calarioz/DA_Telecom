{
 "cells": [
  {
   "cell_type": "markdown",
   "metadata": {},
   "source": [
    "## INTRODUCTION\n",
    "\n",
    "We have assigned a task as a DS fot the telecommunications operator Megaline. The company offers two prepaid plans to its customers: Surf and Ultimate. The commercial department wants to know which plan generates more revenue in order to adjust the advertising budget.\n",
    "\n",
    "We are tasked with conducting a preliminary analysis of the plans based on a relatively small sample of 500 Megaline customers. We will have data for these customers, including their identities, locations, which plan they use, as well as the number of calls they made and the number of text messages they sent in 2018. Our job is to analyze customer behavior and determine which prepaid plan generates more revenue.\n",
    "\n",
    "Important Notes on Billing:\n",
    "- ___Call Duration Rounding:___ Megaline rounds each call's duration to the nearest minute. This means that even if a call lasts just one second, it will be counted as one full minute.\n",
    "- ___Data Usage Rounding:___ Individual web sessions are not rounded. However, at the end of the month, the total data usage is rounded up to the nearest gigabyte. For example, if a user uses 1025 MB of data in a month, they will be billed for 2 GB.\n",
    "\n",
    "___Request:___\n",
    "\n",
    "- The number of calls made and minutes used per month.\n",
    "- The number of SMS sent per month.\n",
    "- The volume of data used per month.\n",
    "- The monthly revenue for each user.\n",
    "\n",
    " ___Hypotesis:___\n",
    "\n",
    "- The average revenue of users on the Ultimate and Surf plans differs.\n",
    "- The average revenue of users in the New York-New Jersey area is different from that of users in other regions."
   ]
  },
  {
   "cell_type": "markdown",
   "metadata": {},
   "source": [
    "## Data Tables Overview\n",
    "- Users Table (Information about users):\n",
    "    - user_id: Unique identifier for the user.\n",
    "    - first_name: User's first name.\n",
    "    - last_name: User's last name.\n",
    "    - age: User's age (in years).\n",
    "    - reg_date: Subscription date (dd, mm, yy).\n",
    "    - churn_date: Date when the user stopped using the service (if absent, the plan was active when the data was extracted).\n",
    "    - city: User's city of residence.\n",
    "    - plan: Name of the plan (either \"Surf\" or \"Ultimate\").\n",
    "\n",
    "- Calls Table (Data about calls):\n",
    "    - id: Unique identifier for the call.\n",
    "    - call_date: Date of the call.\n",
    "    - duration: Duration of the call (in minutes).\n",
    "    - user_id: Identifier of the user who made the call.\n",
    "\n",
    "- Messages Table (Data about SMS):\n",
    "    - id: Unique identifier for the SMS.\n",
    "    - message_date: Date of the SMS.\n",
    "    - user_id: Identifier of the user who sent the SMS.\n",
    "\n",
    "- Internet Table (Data about web sessions):\n",
    "    - id: Unique identifier for the session.\n",
    "    - mb_used: Volume of data used during the session (in megabytes).\n",
    "    - session_date: Date of the web session.\n",
    "    - user_id: Identifier of the user.\n",
    "\n",
    "- Plans Table (Data about the plans):\n",
    "    - plan_name: Name of the plan.\n",
    "    - usd_monthly_fee: Monthly fee in USD.\n",
    "    - minutes_included: Included minutes per month.\n",
    "    - messages_included: Included SMS per month.\n",
    "    - mb_per_month_included: Included data per month (in megabytes).\n",
    "    - usd_per_minute: Price per minute for exceeding the plan's included minutes.\n",
    "    - usd_per_message: Price per SMS for exceeding the plan's included messages.\n",
    "    - usd_per_gb: Price per GB for exceeding the plan's included data (1 GB = 1024 megabytes).\n",
    "\n",
    "\n",
    "___Description of the Plans:___\n",
    "1. Surf Plan:\n",
    "- Monthly Fee: $20\n",
    "- Included:\n",
    "    - 500 minutes per month\n",
    "    - 50 SMS per month\n",
    "    - 15 GB of data per month\n",
    "- Excess Charges (if the user exceeds the included limits):\n",
    "    - 1 minute: $0.03\n",
    "    - 1 SMS: $0.03\n",
    "    - 1 GB of data: $10\n",
    "\n",
    "2. Ultimate Plan:\n",
    "- Monthly Fee: $70\n",
    "- Included:\n",
    "    - 3000 minutes per month\n",
    "    - 1000 SMS per month\n",
    "    - 30 GB of data per month\n",
    "- Excess Charges (if the user exceeds the included limits):\n",
    "    - 1 minute: $0.01\n",
    "    - 1 SMS: $0.01\n",
    "    - 1 GB of data: $7\n"
   ]
  },
  {
   "cell_type": "code",
   "execution_count": null,
   "metadata": {},
   "outputs": [],
   "source": []
  },
  {
   "cell_type": "code",
   "execution_count": null,
   "metadata": {},
   "outputs": [],
   "source": []
  },
  {
   "cell_type": "code",
   "execution_count": null,
   "metadata": {},
   "outputs": [],
   "source": []
  },
  {
   "cell_type": "code",
   "execution_count": null,
   "metadata": {},
   "outputs": [],
   "source": []
  },
  {
   "cell_type": "code",
   "execution_count": null,
   "metadata": {},
   "outputs": [],
   "source": []
  },
  {
   "cell_type": "code",
   "execution_count": null,
   "metadata": {},
   "outputs": [],
   "source": []
  },
  {
   "cell_type": "code",
   "execution_count": null,
   "metadata": {},
   "outputs": [],
   "source": []
  }
 ],
 "metadata": {
  "language_info": {
   "name": "python"
  }
 },
 "nbformat": 4,
 "nbformat_minor": 2
}
