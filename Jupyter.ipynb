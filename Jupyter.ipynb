{
 "cells": [
  {
   "cell_type": "markdown",
   "metadata": {},
   "source": [
    "## INTRODUCTION\n",
    "\n",
    "We have assigned a task as a DS fot the telecommunications operator Megaline. The company offers two prepaid plans to its customers: Surf and Ultimate. The commercial department wants to know which plan generates more revenue in order to adjust the advertising budget. Theses Datasets come from the ___TrippleTen - Data Scientis Course___.\n",
    "\n",
    "We are tasked with conducting a preliminary analysis of the plans based on a relatively small sample of 500 Megaline customers. We will have data for these customers, including their identities, locations, which plan they use, as well as the number of calls they made and the number of text messages they sent in 2018. Our job is to analyze customer behavior and determine which prepaid plan generates more revenue.\n",
    "\n",
    "Important Notes on Billing:\n",
    "- ___Call Duration Rounding:___ Megaline rounds each call's duration to the nearest minute. This means that even if a call lasts just one second, it will be counted as one full minute.\n",
    "- ___Data Usage Rounding:___ Individual web sessions are not rounded. However, at the end of the month, the total data usage is rounded up to the nearest gigabyte. For example, if a user uses 1025 MB of data in a month, they will be billed for 2 GB.\n",
    "\n",
    "___Request:___\n",
    "\n",
    "- The number of calls made and minutes used per month.\n",
    "- The number of SMS sent per month.\n",
    "- The volume of data used per month.\n",
    "- The monthly revenue for each user.\n",
    "\n",
    "___Questions___\n",
    "\n",
    "- What is the average number of calls made per plan? \n",
    "- What is the average number of SMS sent per plan?\n",
    "- What is the average number of GB used per plan?\n",
    "- What is the average number of income get per plan?\n",
    "\n",
    "\n",
    "\n",
    " ___Hypotesis:___\n",
    "\n",
    "- The average revenue of users on the Ultimate and Surf plans differs.\n",
    "- The average revenue of users in the New York-New Jersey area is different from that of users in other regions."
   ]
  },
  {
   "cell_type": "markdown",
   "metadata": {},
   "source": [
    "## DATA DESCRIPTION\n",
    "- Users Table (Information about users):\n",
    "    - user_id: Unique identifier for the user.\n",
    "    - first_name: User's first name.\n",
    "    - last_name: User's last name.\n",
    "    - age: User's age (in years).\n",
    "    - reg_date: Subscription date (dd, mm, yy).\n",
    "    - churn_date: Date when the user stopped using the service (if absent, the plan was active when the data was extracted).\n",
    "    - city: User's city of residence.\n",
    "    - plan: Name of the plan (either \"Surf\" or \"Ultimate\").\n",
    "\n",
    "- Calls Table (Data about calls):\n",
    "    - id: Unique identifier for the call.\n",
    "    - call_date: Date of the call.\n",
    "    - duration: Duration of the call (in minutes).\n",
    "    - user_id: Identifier of the user who made the call.\n",
    "\n",
    "- Messages Table (Data about SMS):\n",
    "    - id: Unique identifier for the SMS.\n",
    "    - message_date: Date of the SMS.\n",
    "    - user_id: Identifier of the user who sent the SMS.\n",
    "\n",
    "- Internet Table (Data about web sessions):\n",
    "    - id: Unique identifier for the session.\n",
    "    - mb_used: Volume of data used during the session (in megabytes).\n",
    "    - session_date: Date of the web session.\n",
    "    - user_id: Identifier of the user.\n",
    "\n",
    "- Plans Table (Data about the plans):\n",
    "    - plan_name: Name of the plan.\n",
    "    - usd_monthly_fee: Monthly fee in USD.\n",
    "    - minutes_included: Included minutes per month.\n",
    "    - messages_included: Included SMS per month.\n",
    "    - mb_per_month_included: Included data per month (in megabytes).\n",
    "    - usd_per_minute: Price per minute for exceeding the plan's included minutes.\n",
    "    - usd_per_message: Price per SMS for exceeding the plan's included messages.\n",
    "    - usd_per_gb: Price per GB for exceeding the plan's included data (1 GB = 1024 megabytes).\n",
    "\n",
    "\n",
    "___Description of the Plans:___\n",
    "1. Surf Plan:\n",
    "- Monthly Fee: $20\n",
    "- Included:\n",
    "    - 500 minutes per month\n",
    "    - 50 SMS per month\n",
    "    - 15 GB of data per month\n",
    "- Excess Charges (if the user exceeds the included limits):\n",
    "    - 1 minute: $0.03\n",
    "    - 1 SMS: $0.03\n",
    "    - 1 GB of data: $10\n",
    "\n",
    "2. Ultimate Plan:\n",
    "- Monthly Fee: $70\n",
    "- Included:\n",
    "    - 3000 minutes per month\n",
    "    - 1000 SMS per month\n",
    "    - 30 GB of data per month\n",
    "- Excess Charges (if the user exceeds the included limits):\n",
    "    - 1 minute: $0.01\n",
    "    - 1 SMS: $0.01\n",
    "    - 1 GB of data: $7\n"
   ]
  },
  {
   "cell_type": "code",
   "execution_count": 1,
   "metadata": {},
   "outputs": [],
   "source": [
    "import pandas as pd\n",
    "import numpy as np\n",
    "import matplotlib.pyplot as plt\n",
    "import math\n",
    "import seaborn as sns \n",
    "from scipy import stats as st"
   ]
  },
  {
   "cell_type": "code",
   "execution_count": 2,
   "metadata": {},
   "outputs": [],
   "source": [
    "#Data frames\n",
    "df_calls = pd.read_csv('megaline_calls.csv')\n",
    "df_internet = pd.read_csv('megaline_internet.csv')\n",
    "df_messages = pd.read_csv('megaline_messages.csv')\n",
    "df_plans = pd.read_csv('megaline_plans.csv')\n",
    "df_users = pd.read_csv('megaline_users.csv')"
   ]
  },
  {
   "cell_type": "code",
   "execution_count": 3,
   "metadata": {},
   "outputs": [
    {
     "name": "stdout",
     "output_type": "stream",
     "text": [
      "Duplicate values: 0\n",
      "\n"
     ]
    },
    {
     "data": {
      "text/html": [
       "<div>\n",
       "<style scoped>\n",
       "    .dataframe tbody tr th:only-of-type {\n",
       "        vertical-align: middle;\n",
       "    }\n",
       "\n",
       "    .dataframe tbody tr th {\n",
       "        vertical-align: top;\n",
       "    }\n",
       "\n",
       "    .dataframe thead th {\n",
       "        text-align: right;\n",
       "    }\n",
       "</style>\n",
       "<table border=\"1\" class=\"dataframe\">\n",
       "  <thead>\n",
       "    <tr style=\"text-align: right;\">\n",
       "      <th></th>\n",
       "      <th>messages_included</th>\n",
       "      <th>mb_per_month_included</th>\n",
       "      <th>minutes_included</th>\n",
       "      <th>usd_monthly_pay</th>\n",
       "      <th>usd_per_gb</th>\n",
       "      <th>usd_per_message</th>\n",
       "      <th>usd_per_minute</th>\n",
       "      <th>plan_name</th>\n",
       "    </tr>\n",
       "  </thead>\n",
       "  <tbody>\n",
       "    <tr>\n",
       "      <th>0</th>\n",
       "      <td>50</td>\n",
       "      <td>15360</td>\n",
       "      <td>500</td>\n",
       "      <td>20</td>\n",
       "      <td>10</td>\n",
       "      <td>0.03</td>\n",
       "      <td>0.03</td>\n",
       "      <td>surf</td>\n",
       "    </tr>\n",
       "    <tr>\n",
       "      <th>1</th>\n",
       "      <td>1000</td>\n",
       "      <td>30720</td>\n",
       "      <td>3000</td>\n",
       "      <td>70</td>\n",
       "      <td>7</td>\n",
       "      <td>0.01</td>\n",
       "      <td>0.01</td>\n",
       "      <td>ultimate</td>\n",
       "    </tr>\n",
       "  </tbody>\n",
       "</table>\n",
       "</div>"
      ],
      "text/plain": [
       "   messages_included  mb_per_month_included  minutes_included  \\\n",
       "0                 50                  15360               500   \n",
       "1               1000                  30720              3000   \n",
       "\n",
       "   usd_monthly_pay  usd_per_gb  usd_per_message  usd_per_minute plan_name  \n",
       "0               20          10             0.03            0.03      surf  \n",
       "1               70           7             0.01            0.01  ultimate  "
      ]
     },
     "execution_count": 3,
     "metadata": {},
     "output_type": "execute_result"
    }
   ],
   "source": [
    "# PLANS\n",
    "print(f\"Duplicate values: {df_plans.duplicated().sum()}\\n\")\n",
    "df_plans"
   ]
  },
  {
   "cell_type": "code",
   "execution_count": 4,
   "metadata": {},
   "outputs": [
    {
     "name": "stdout",
     "output_type": "stream",
     "text": [
      "<class 'pandas.core.frame.DataFrame'>\n",
      "RangeIndex: 2 entries, 0 to 1\n",
      "Data columns (total 8 columns):\n",
      " #   Column                 Non-Null Count  Dtype  \n",
      "---  ------                 --------------  -----  \n",
      " 0   messages_included      2 non-null      int64  \n",
      " 1   mb_per_month_included  2 non-null      int64  \n",
      " 2   minutes_included       2 non-null      int64  \n",
      " 3   usd_monthly_pay        2 non-null      int64  \n",
      " 4   usd_per_gb             2 non-null      int64  \n",
      " 5   usd_per_message        2 non-null      float64\n",
      " 6   usd_per_minute         2 non-null      float64\n",
      " 7   plan_name              2 non-null      object \n",
      "dtypes: float64(2), int64(5), object(1)\n",
      "memory usage: 260.0+ bytes\n"
     ]
    }
   ],
   "source": [
    "df_plans.info()"
   ]
  },
  {
   "cell_type": "code",
   "execution_count": 5,
   "metadata": {},
   "outputs": [
    {
     "name": "stdout",
     "output_type": "stream",
     "text": [
      "Duplicate values: 0\n"
     ]
    },
    {
     "data": {
      "text/html": [
       "<div>\n",
       "<style scoped>\n",
       "    .dataframe tbody tr th:only-of-type {\n",
       "        vertical-align: middle;\n",
       "    }\n",
       "\n",
       "    .dataframe tbody tr th {\n",
       "        vertical-align: top;\n",
       "    }\n",
       "\n",
       "    .dataframe thead th {\n",
       "        text-align: right;\n",
       "    }\n",
       "</style>\n",
       "<table border=\"1\" class=\"dataframe\">\n",
       "  <thead>\n",
       "    <tr style=\"text-align: right;\">\n",
       "      <th></th>\n",
       "      <th>user_id</th>\n",
       "      <th>first_name</th>\n",
       "      <th>last_name</th>\n",
       "      <th>age</th>\n",
       "      <th>city</th>\n",
       "      <th>reg_date</th>\n",
       "      <th>plan</th>\n",
       "      <th>churn_date</th>\n",
       "    </tr>\n",
       "  </thead>\n",
       "  <tbody>\n",
       "    <tr>\n",
       "      <th>131</th>\n",
       "      <td>1131</td>\n",
       "      <td>Shane</td>\n",
       "      <td>Morrison</td>\n",
       "      <td>60</td>\n",
       "      <td>LOS ANGELES-LONG BEACH-ANAHEIM, CA MSA</td>\n",
       "      <td>2018-01-07</td>\n",
       "      <td>surf</td>\n",
       "      <td>NaN</td>\n",
       "    </tr>\n",
       "    <tr>\n",
       "      <th>301</th>\n",
       "      <td>1301</td>\n",
       "      <td>Tomas</td>\n",
       "      <td>Horton</td>\n",
       "      <td>64</td>\n",
       "      <td>CHICAGO-NAPERVILLE-ELGIN, IL-IN-WI MSA</td>\n",
       "      <td>2018-01-04</td>\n",
       "      <td>ultimate</td>\n",
       "      <td>NaN</td>\n",
       "    </tr>\n",
       "    <tr>\n",
       "      <th>7</th>\n",
       "      <td>1007</td>\n",
       "      <td>Eusebio</td>\n",
       "      <td>Welch</td>\n",
       "      <td>42</td>\n",
       "      <td>GRAND RAPIDS-KENTWOOD, MI MSA</td>\n",
       "      <td>2018-07-11</td>\n",
       "      <td>surf</td>\n",
       "      <td>NaN</td>\n",
       "    </tr>\n",
       "    <tr>\n",
       "      <th>427</th>\n",
       "      <td>1427</td>\n",
       "      <td>Zofia</td>\n",
       "      <td>Brock</td>\n",
       "      <td>64</td>\n",
       "      <td>WASHINGTON-ARLINGTON-ALEXANDRIA, DC-VA-MD-WV MSA</td>\n",
       "      <td>2018-01-26</td>\n",
       "      <td>ultimate</td>\n",
       "      <td>NaN</td>\n",
       "    </tr>\n",
       "    <tr>\n",
       "      <th>21</th>\n",
       "      <td>1021</td>\n",
       "      <td>Ricarda</td>\n",
       "      <td>Booker</td>\n",
       "      <td>37</td>\n",
       "      <td>LOS ANGELES-LONG BEACH-ANAHEIM, CA MSA</td>\n",
       "      <td>2018-12-21</td>\n",
       "      <td>surf</td>\n",
       "      <td>NaN</td>\n",
       "    </tr>\n",
       "    <tr>\n",
       "      <th>430</th>\n",
       "      <td>1430</td>\n",
       "      <td>Myung</td>\n",
       "      <td>Pugh</td>\n",
       "      <td>63</td>\n",
       "      <td>NEW YORK-NEWARK-JERSEY CITY, NY-NJ-PA MSA</td>\n",
       "      <td>2018-12-07</td>\n",
       "      <td>surf</td>\n",
       "      <td>NaN</td>\n",
       "    </tr>\n",
       "    <tr>\n",
       "      <th>20</th>\n",
       "      <td>1020</td>\n",
       "      <td>Rutha</td>\n",
       "      <td>Bell</td>\n",
       "      <td>56</td>\n",
       "      <td>DALLAS-FORT WORTH-ARLINGTON, TX MSA</td>\n",
       "      <td>2018-11-08</td>\n",
       "      <td>surf</td>\n",
       "      <td>NaN</td>\n",
       "    </tr>\n",
       "    <tr>\n",
       "      <th>482</th>\n",
       "      <td>1482</td>\n",
       "      <td>Armand</td>\n",
       "      <td>Glenn</td>\n",
       "      <td>70</td>\n",
       "      <td>NEW YORK-NEWARK-JERSEY CITY, NY-NJ-PA MSA</td>\n",
       "      <td>2018-01-01</td>\n",
       "      <td>ultimate</td>\n",
       "      <td>NaN</td>\n",
       "    </tr>\n",
       "    <tr>\n",
       "      <th>147</th>\n",
       "      <td>1147</td>\n",
       "      <td>Duncan</td>\n",
       "      <td>Malone</td>\n",
       "      <td>71</td>\n",
       "      <td>URBAN HONOLULU, HI MSA</td>\n",
       "      <td>2018-04-30</td>\n",
       "      <td>surf</td>\n",
       "      <td>NaN</td>\n",
       "    </tr>\n",
       "    <tr>\n",
       "      <th>145</th>\n",
       "      <td>1145</td>\n",
       "      <td>Venice</td>\n",
       "      <td>Brooks</td>\n",
       "      <td>29</td>\n",
       "      <td>SAN JOSE-SUNNYVALE-SANTA CLARA, CA MSA</td>\n",
       "      <td>2018-04-12</td>\n",
       "      <td>surf</td>\n",
       "      <td>NaN</td>\n",
       "    </tr>\n",
       "  </tbody>\n",
       "</table>\n",
       "</div>"
      ],
      "text/plain": [
       "     user_id first_name last_name  age  \\\n",
       "131     1131      Shane  Morrison   60   \n",
       "301     1301      Tomas    Horton   64   \n",
       "7       1007    Eusebio     Welch   42   \n",
       "427     1427      Zofia     Brock   64   \n",
       "21      1021    Ricarda    Booker   37   \n",
       "430     1430      Myung      Pugh   63   \n",
       "20      1020      Rutha      Bell   56   \n",
       "482     1482     Armand     Glenn   70   \n",
       "147     1147     Duncan    Malone   71   \n",
       "145     1145     Venice    Brooks   29   \n",
       "\n",
       "                                                 city    reg_date      plan  \\\n",
       "131            LOS ANGELES-LONG BEACH-ANAHEIM, CA MSA  2018-01-07      surf   \n",
       "301            CHICAGO-NAPERVILLE-ELGIN, IL-IN-WI MSA  2018-01-04  ultimate   \n",
       "7                       GRAND RAPIDS-KENTWOOD, MI MSA  2018-07-11      surf   \n",
       "427  WASHINGTON-ARLINGTON-ALEXANDRIA, DC-VA-MD-WV MSA  2018-01-26  ultimate   \n",
       "21             LOS ANGELES-LONG BEACH-ANAHEIM, CA MSA  2018-12-21      surf   \n",
       "430         NEW YORK-NEWARK-JERSEY CITY, NY-NJ-PA MSA  2018-12-07      surf   \n",
       "20                DALLAS-FORT WORTH-ARLINGTON, TX MSA  2018-11-08      surf   \n",
       "482         NEW YORK-NEWARK-JERSEY CITY, NY-NJ-PA MSA  2018-01-01  ultimate   \n",
       "147                            URBAN HONOLULU, HI MSA  2018-04-30      surf   \n",
       "145            SAN JOSE-SUNNYVALE-SANTA CLARA, CA MSA  2018-04-12      surf   \n",
       "\n",
       "    churn_date  \n",
       "131        NaN  \n",
       "301        NaN  \n",
       "7          NaN  \n",
       "427        NaN  \n",
       "21         NaN  \n",
       "430        NaN  \n",
       "20         NaN  \n",
       "482        NaN  \n",
       "147        NaN  \n",
       "145        NaN  "
      ]
     },
     "execution_count": 5,
     "metadata": {},
     "output_type": "execute_result"
    }
   ],
   "source": [
    "# USERS\n",
    "df_users['city'] = df_users['city'].str.upper()\n",
    "print(f\"Duplicate values: {df_users.duplicated().sum()}\")\n",
    "\n",
    "df_users.sample(10)"
   ]
  },
  {
   "cell_type": "code",
   "execution_count": 6,
   "metadata": {},
   "outputs": [
    {
     "name": "stdout",
     "output_type": "stream",
     "text": [
      "<class 'pandas.core.frame.DataFrame'>\n",
      "RangeIndex: 500 entries, 0 to 499\n",
      "Data columns (total 8 columns):\n",
      " #   Column      Non-Null Count  Dtype \n",
      "---  ------      --------------  ----- \n",
      " 0   user_id     500 non-null    int64 \n",
      " 1   first_name  500 non-null    object\n",
      " 2   last_name   500 non-null    object\n",
      " 3   age         500 non-null    int64 \n",
      " 4   city        500 non-null    object\n",
      " 5   reg_date    500 non-null    object\n",
      " 6   plan        500 non-null    object\n",
      " 7   churn_date  34 non-null     object\n",
      "dtypes: int64(2), object(6)\n",
      "memory usage: 31.4+ KB\n"
     ]
    }
   ],
   "source": [
    "df_users.info()"
   ]
  },
  {
   "cell_type": "code",
   "execution_count": 7,
   "metadata": {},
   "outputs": [
    {
     "name": "stdout",
     "output_type": "stream",
     "text": [
      "Duplicate values: 0\n"
     ]
    },
    {
     "data": {
      "text/html": [
       "<div>\n",
       "<style scoped>\n",
       "    .dataframe tbody tr th:only-of-type {\n",
       "        vertical-align: middle;\n",
       "    }\n",
       "\n",
       "    .dataframe tbody tr th {\n",
       "        vertical-align: top;\n",
       "    }\n",
       "\n",
       "    .dataframe thead th {\n",
       "        text-align: right;\n",
       "    }\n",
       "</style>\n",
       "<table border=\"1\" class=\"dataframe\">\n",
       "  <thead>\n",
       "    <tr style=\"text-align: right;\">\n",
       "      <th></th>\n",
       "      <th>id</th>\n",
       "      <th>user_id</th>\n",
       "      <th>call_date</th>\n",
       "      <th>duration</th>\n",
       "    </tr>\n",
       "  </thead>\n",
       "  <tbody>\n",
       "    <tr>\n",
       "      <th>10539</th>\n",
       "      <td>1046_405</td>\n",
       "      <td>1046</td>\n",
       "      <td>2018-08-13</td>\n",
       "      <td>0.00</td>\n",
       "    </tr>\n",
       "    <tr>\n",
       "      <th>127297</th>\n",
       "      <td>1456_74</td>\n",
       "      <td>1456</td>\n",
       "      <td>2018-07-12</td>\n",
       "      <td>0.00</td>\n",
       "    </tr>\n",
       "    <tr>\n",
       "      <th>95820</th>\n",
       "      <td>1340_170</td>\n",
       "      <td>1340</td>\n",
       "      <td>2018-08-26</td>\n",
       "      <td>4.78</td>\n",
       "    </tr>\n",
       "    <tr>\n",
       "      <th>19707</th>\n",
       "      <td>1075_52</td>\n",
       "      <td>1075</td>\n",
       "      <td>2018-10-16</td>\n",
       "      <td>0.21</td>\n",
       "    </tr>\n",
       "    <tr>\n",
       "      <th>97122</th>\n",
       "      <td>1346_352</td>\n",
       "      <td>1346</td>\n",
       "      <td>2018-10-06</td>\n",
       "      <td>9.56</td>\n",
       "    </tr>\n",
       "    <tr>\n",
       "      <th>87015</th>\n",
       "      <td>1320_684</td>\n",
       "      <td>1320</td>\n",
       "      <td>2018-09-30</td>\n",
       "      <td>0.00</td>\n",
       "    </tr>\n",
       "    <tr>\n",
       "      <th>132054</th>\n",
       "      <td>1475_201</td>\n",
       "      <td>1475</td>\n",
       "      <td>2018-11-19</td>\n",
       "      <td>4.80</td>\n",
       "    </tr>\n",
       "    <tr>\n",
       "      <th>92732</th>\n",
       "      <td>1334_100</td>\n",
       "      <td>1334</td>\n",
       "      <td>2018-12-31</td>\n",
       "      <td>14.44</td>\n",
       "    </tr>\n",
       "    <tr>\n",
       "      <th>118535</th>\n",
       "      <td>1412_819</td>\n",
       "      <td>1412</td>\n",
       "      <td>2018-09-22</td>\n",
       "      <td>23.11</td>\n",
       "    </tr>\n",
       "    <tr>\n",
       "      <th>122350</th>\n",
       "      <td>1432_200</td>\n",
       "      <td>1432</td>\n",
       "      <td>2018-10-31</td>\n",
       "      <td>6.90</td>\n",
       "    </tr>\n",
       "  </tbody>\n",
       "</table>\n",
       "</div>"
      ],
      "text/plain": [
       "              id  user_id   call_date  duration\n",
       "10539   1046_405     1046  2018-08-13      0.00\n",
       "127297   1456_74     1456  2018-07-12      0.00\n",
       "95820   1340_170     1340  2018-08-26      4.78\n",
       "19707    1075_52     1075  2018-10-16      0.21\n",
       "97122   1346_352     1346  2018-10-06      9.56\n",
       "87015   1320_684     1320  2018-09-30      0.00\n",
       "132054  1475_201     1475  2018-11-19      4.80\n",
       "92732   1334_100     1334  2018-12-31     14.44\n",
       "118535  1412_819     1412  2018-09-22     23.11\n",
       "122350  1432_200     1432  2018-10-31      6.90"
      ]
     },
     "execution_count": 7,
     "metadata": {},
     "output_type": "execute_result"
    }
   ],
   "source": [
    "# Calls\n",
    "print(f\"Duplicate values: {df_calls.duplicated().sum()}\")\n",
    "df_calls.sample(10)"
   ]
  },
  {
   "cell_type": "code",
   "execution_count": 8,
   "metadata": {},
   "outputs": [
    {
     "name": "stdout",
     "output_type": "stream",
     "text": [
      "<class 'pandas.core.frame.DataFrame'>\n",
      "RangeIndex: 137735 entries, 0 to 137734\n",
      "Data columns (total 4 columns):\n",
      " #   Column     Non-Null Count   Dtype  \n",
      "---  ------     --------------   -----  \n",
      " 0   id         137735 non-null  object \n",
      " 1   user_id    137735 non-null  int64  \n",
      " 2   call_date  137735 non-null  object \n",
      " 3   duration   137735 non-null  float64\n",
      "dtypes: float64(1), int64(1), object(2)\n",
      "memory usage: 4.2+ MB\n"
     ]
    }
   ],
   "source": [
    "df_calls.info()"
   ]
  },
  {
   "cell_type": "code",
   "execution_count": 9,
   "metadata": {},
   "outputs": [
    {
     "name": "stdout",
     "output_type": "stream",
     "text": [
      "Duplicate values: 0\n"
     ]
    },
    {
     "data": {
      "text/html": [
       "<div>\n",
       "<style scoped>\n",
       "    .dataframe tbody tr th:only-of-type {\n",
       "        vertical-align: middle;\n",
       "    }\n",
       "\n",
       "    .dataframe tbody tr th {\n",
       "        vertical-align: top;\n",
       "    }\n",
       "\n",
       "    .dataframe thead th {\n",
       "        text-align: right;\n",
       "    }\n",
       "</style>\n",
       "<table border=\"1\" class=\"dataframe\">\n",
       "  <thead>\n",
       "    <tr style=\"text-align: right;\">\n",
       "      <th></th>\n",
       "      <th>id</th>\n",
       "      <th>user_id</th>\n",
       "      <th>message_date</th>\n",
       "    </tr>\n",
       "  </thead>\n",
       "  <tbody>\n",
       "    <tr>\n",
       "      <th>16065</th>\n",
       "      <td>1107_119</td>\n",
       "      <td>1107</td>\n",
       "      <td>2018-12-20</td>\n",
       "    </tr>\n",
       "    <tr>\n",
       "      <th>45682</th>\n",
       "      <td>1312_166</td>\n",
       "      <td>1312</td>\n",
       "      <td>2018-03-27</td>\n",
       "    </tr>\n",
       "    <tr>\n",
       "      <th>33432</th>\n",
       "      <td>1211_108</td>\n",
       "      <td>1211</td>\n",
       "      <td>2018-12-14</td>\n",
       "    </tr>\n",
       "    <tr>\n",
       "      <th>61976</th>\n",
       "      <td>1387_50</td>\n",
       "      <td>1387</td>\n",
       "      <td>2018-10-26</td>\n",
       "    </tr>\n",
       "    <tr>\n",
       "      <th>12499</th>\n",
       "      <td>1082_11</td>\n",
       "      <td>1082</td>\n",
       "      <td>2018-06-10</td>\n",
       "    </tr>\n",
       "    <tr>\n",
       "      <th>668</th>\n",
       "      <td>1006_657</td>\n",
       "      <td>1006</td>\n",
       "      <td>2018-12-30</td>\n",
       "    </tr>\n",
       "    <tr>\n",
       "      <th>48326</th>\n",
       "      <td>1324_1060</td>\n",
       "      <td>1324</td>\n",
       "      <td>2018-06-25</td>\n",
       "    </tr>\n",
       "    <tr>\n",
       "      <th>40652</th>\n",
       "      <td>1261_307</td>\n",
       "      <td>1261</td>\n",
       "      <td>2018-08-21</td>\n",
       "    </tr>\n",
       "    <tr>\n",
       "      <th>49005</th>\n",
       "      <td>1327_98</td>\n",
       "      <td>1327</td>\n",
       "      <td>2018-11-03</td>\n",
       "    </tr>\n",
       "    <tr>\n",
       "      <th>75079</th>\n",
       "      <td>1489_154</td>\n",
       "      <td>1489</td>\n",
       "      <td>2018-10-28</td>\n",
       "    </tr>\n",
       "  </tbody>\n",
       "</table>\n",
       "</div>"
      ],
      "text/plain": [
       "              id  user_id message_date\n",
       "16065   1107_119     1107   2018-12-20\n",
       "45682   1312_166     1312   2018-03-27\n",
       "33432   1211_108     1211   2018-12-14\n",
       "61976    1387_50     1387   2018-10-26\n",
       "12499    1082_11     1082   2018-06-10\n",
       "668     1006_657     1006   2018-12-30\n",
       "48326  1324_1060     1324   2018-06-25\n",
       "40652   1261_307     1261   2018-08-21\n",
       "49005    1327_98     1327   2018-11-03\n",
       "75079   1489_154     1489   2018-10-28"
      ]
     },
     "execution_count": 9,
     "metadata": {},
     "output_type": "execute_result"
    }
   ],
   "source": [
    "# Messages\n",
    "print(f\"Duplicate values: {df_messages.duplicated().sum()}\")\n",
    "df_messages.sample(10)"
   ]
  },
  {
   "cell_type": "code",
   "execution_count": 10,
   "metadata": {},
   "outputs": [
    {
     "name": "stdout",
     "output_type": "stream",
     "text": [
      "<class 'pandas.core.frame.DataFrame'>\n",
      "RangeIndex: 76051 entries, 0 to 76050\n",
      "Data columns (total 3 columns):\n",
      " #   Column        Non-Null Count  Dtype \n",
      "---  ------        --------------  ----- \n",
      " 0   id            76051 non-null  object\n",
      " 1   user_id       76051 non-null  int64 \n",
      " 2   message_date  76051 non-null  object\n",
      "dtypes: int64(1), object(2)\n",
      "memory usage: 1.7+ MB\n"
     ]
    }
   ],
   "source": [
    "df_messages.info()"
   ]
  },
  {
   "cell_type": "code",
   "execution_count": 11,
   "metadata": {},
   "outputs": [
    {
     "name": "stdout",
     "output_type": "stream",
     "text": [
      "Duplicate values: 0\n"
     ]
    },
    {
     "data": {
      "text/html": [
       "<div>\n",
       "<style scoped>\n",
       "    .dataframe tbody tr th:only-of-type {\n",
       "        vertical-align: middle;\n",
       "    }\n",
       "\n",
       "    .dataframe tbody tr th {\n",
       "        vertical-align: top;\n",
       "    }\n",
       "\n",
       "    .dataframe thead th {\n",
       "        text-align: right;\n",
       "    }\n",
       "</style>\n",
       "<table border=\"1\" class=\"dataframe\">\n",
       "  <thead>\n",
       "    <tr style=\"text-align: right;\">\n",
       "      <th></th>\n",
       "      <th>id</th>\n",
       "      <th>user_id</th>\n",
       "      <th>session_date</th>\n",
       "      <th>mb_used</th>\n",
       "    </tr>\n",
       "  </thead>\n",
       "  <tbody>\n",
       "    <tr>\n",
       "      <th>12967</th>\n",
       "      <td>1061_464</td>\n",
       "      <td>1061</td>\n",
       "      <td>2018-09-15</td>\n",
       "      <td>0.00</td>\n",
       "    </tr>\n",
       "    <tr>\n",
       "      <th>8204</th>\n",
       "      <td>1043_383</td>\n",
       "      <td>1043</td>\n",
       "      <td>2018-08-20</td>\n",
       "      <td>582.27</td>\n",
       "    </tr>\n",
       "    <tr>\n",
       "      <th>79015</th>\n",
       "      <td>1368_188</td>\n",
       "      <td>1368</td>\n",
       "      <td>2018-12-15</td>\n",
       "      <td>673.19</td>\n",
       "    </tr>\n",
       "    <tr>\n",
       "      <th>2927</th>\n",
       "      <td>1016_151</td>\n",
       "      <td>1016</td>\n",
       "      <td>2018-11-28</td>\n",
       "      <td>785.91</td>\n",
       "    </tr>\n",
       "    <tr>\n",
       "      <th>15708</th>\n",
       "      <td>1071_342</td>\n",
       "      <td>1071</td>\n",
       "      <td>2018-09-05</td>\n",
       "      <td>0.00</td>\n",
       "    </tr>\n",
       "    <tr>\n",
       "      <th>68704</th>\n",
       "      <td>1321_47</td>\n",
       "      <td>1321</td>\n",
       "      <td>2018-07-08</td>\n",
       "      <td>689.51</td>\n",
       "    </tr>\n",
       "    <tr>\n",
       "      <th>86481</th>\n",
       "      <td>1402_10</td>\n",
       "      <td>1402</td>\n",
       "      <td>2018-12-05</td>\n",
       "      <td>365.02</td>\n",
       "    </tr>\n",
       "    <tr>\n",
       "      <th>83151</th>\n",
       "      <td>1389_13</td>\n",
       "      <td>1389</td>\n",
       "      <td>2018-06-06</td>\n",
       "      <td>469.17</td>\n",
       "    </tr>\n",
       "    <tr>\n",
       "      <th>102178</th>\n",
       "      <td>1489_190</td>\n",
       "      <td>1489</td>\n",
       "      <td>2018-10-29</td>\n",
       "      <td>0.00</td>\n",
       "    </tr>\n",
       "    <tr>\n",
       "      <th>62486</th>\n",
       "      <td>1286_442</td>\n",
       "      <td>1286</td>\n",
       "      <td>2018-12-18</td>\n",
       "      <td>409.97</td>\n",
       "    </tr>\n",
       "  </tbody>\n",
       "</table>\n",
       "</div>"
      ],
      "text/plain": [
       "              id  user_id session_date  mb_used\n",
       "12967   1061_464     1061   2018-09-15     0.00\n",
       "8204    1043_383     1043   2018-08-20   582.27\n",
       "79015   1368_188     1368   2018-12-15   673.19\n",
       "2927    1016_151     1016   2018-11-28   785.91\n",
       "15708   1071_342     1071   2018-09-05     0.00\n",
       "68704    1321_47     1321   2018-07-08   689.51\n",
       "86481    1402_10     1402   2018-12-05   365.02\n",
       "83151    1389_13     1389   2018-06-06   469.17\n",
       "102178  1489_190     1489   2018-10-29     0.00\n",
       "62486   1286_442     1286   2018-12-18   409.97"
      ]
     },
     "execution_count": 11,
     "metadata": {},
     "output_type": "execute_result"
    }
   ],
   "source": [
    "# Internet\n",
    "print(f\"Duplicate values: {df_internet.duplicated().sum()}\")\n",
    "df_internet.sample(10)"
   ]
  },
  {
   "cell_type": "code",
   "execution_count": 12,
   "metadata": {},
   "outputs": [
    {
     "name": "stdout",
     "output_type": "stream",
     "text": [
      "<class 'pandas.core.frame.DataFrame'>\n",
      "RangeIndex: 104825 entries, 0 to 104824\n",
      "Data columns (total 4 columns):\n",
      " #   Column        Non-Null Count   Dtype  \n",
      "---  ------        --------------   -----  \n",
      " 0   id            104825 non-null  object \n",
      " 1   user_id       104825 non-null  int64  \n",
      " 2   session_date  104825 non-null  object \n",
      " 3   mb_used       104825 non-null  float64\n",
      "dtypes: float64(1), int64(1), object(2)\n",
      "memory usage: 3.2+ MB\n"
     ]
    }
   ],
   "source": [
    "df_internet.info()"
   ]
  },
  {
   "cell_type": "markdown",
   "metadata": {},
   "source": [
    "## PRE-PROCESSING\n",
    "\n",
    "___Work plan___\n",
    "\n",
    "1. Verify if there are rows with explicit or implicit values depending on the data type.\n",
    "2. Remove any duplicate data from the DataFrame or split a field if need it.\n",
    "3. Identify missing values and fill them as appropriate for each DataFrame.\n"
   ]
  },
  {
   "cell_type": "markdown",
   "metadata": {},
   "source": [
    "### PLAN"
   ]
  },
  {
   "cell_type": "code",
   "execution_count": 13,
   "metadata": {},
   "outputs": [],
   "source": [
    "df_plans['gb_per_month_included'] = df_plans['mb_per_month_included'] / 1024"
   ]
  },
  {
   "cell_type": "markdown",
   "metadata": {},
   "source": [
    "### USERS"
   ]
  },
  {
   "cell_type": "code",
   "execution_count": 14,
   "metadata": {},
   "outputs": [],
   "source": [
    "# Converting datatype to datetime\n",
    "df_users['reg_date'] = pd.to_datetime(df_users['reg_date'],format='%Y-%m-%d')"
   ]
  },
  {
   "cell_type": "code",
   "execution_count": 15,
   "metadata": {},
   "outputs": [
    {
     "name": "stdout",
     "output_type": "stream",
     "text": [
      "From year 2018 to 2018\n"
     ]
    },
    {
     "name": "stderr",
     "output_type": "stream",
     "text": [
      "C:\\Users\\JoseC\\AppData\\Local\\Temp\\ipykernel_2332\\3261045646.py:2: FutureWarning: A value is trying to be set on a copy of a DataFrame or Series through chained assignment using an inplace method.\n",
      "The behavior will change in pandas 3.0. This inplace method will never work because the intermediate object on which we are setting values always behaves as a copy.\n",
      "\n",
      "For example, when doing 'df[col].method(value, inplace=True)', try using 'df.method({col: value}, inplace=True)' or df[col] = df[col].method(value) instead, to perform the operation inplace on the original object.\n",
      "\n",
      "\n",
      "  df_users['churn_date'].fillna('Active',inplace=True)\n"
     ]
    },
    {
     "data": {
      "text/html": [
       "<div>\n",
       "<style scoped>\n",
       "    .dataframe tbody tr th:only-of-type {\n",
       "        vertical-align: middle;\n",
       "    }\n",
       "\n",
       "    .dataframe tbody tr th {\n",
       "        vertical-align: top;\n",
       "    }\n",
       "\n",
       "    .dataframe thead th {\n",
       "        text-align: right;\n",
       "    }\n",
       "</style>\n",
       "<table border=\"1\" class=\"dataframe\">\n",
       "  <thead>\n",
       "    <tr style=\"text-align: right;\">\n",
       "      <th></th>\n",
       "      <th>user_id</th>\n",
       "      <th>first_name</th>\n",
       "      <th>last_name</th>\n",
       "      <th>age</th>\n",
       "      <th>city</th>\n",
       "      <th>reg_date</th>\n",
       "      <th>plan</th>\n",
       "      <th>churn_date</th>\n",
       "      <th>year</th>\n",
       "      <th>month</th>\n",
       "      <th>day</th>\n",
       "    </tr>\n",
       "  </thead>\n",
       "  <tbody>\n",
       "    <tr>\n",
       "      <th>366</th>\n",
       "      <td>1366</td>\n",
       "      <td>Rod</td>\n",
       "      <td>Huff</td>\n",
       "      <td>62</td>\n",
       "      <td>CINCINNATI, OH-KY-IN MSA</td>\n",
       "      <td>2018-07-30</td>\n",
       "      <td>surf</td>\n",
       "      <td>Active</td>\n",
       "      <td>2018</td>\n",
       "      <td>7</td>\n",
       "      <td>30</td>\n",
       "    </tr>\n",
       "    <tr>\n",
       "      <th>449</th>\n",
       "      <td>1449</td>\n",
       "      <td>Boyd</td>\n",
       "      <td>Kelley</td>\n",
       "      <td>39</td>\n",
       "      <td>SEATTLE-TACOMA-BELLEVUE, WA MSA</td>\n",
       "      <td>2018-10-04</td>\n",
       "      <td>surf</td>\n",
       "      <td>Active</td>\n",
       "      <td>2018</td>\n",
       "      <td>10</td>\n",
       "      <td>4</td>\n",
       "    </tr>\n",
       "    <tr>\n",
       "      <th>295</th>\n",
       "      <td>1295</td>\n",
       "      <td>Hung</td>\n",
       "      <td>Flowers</td>\n",
       "      <td>68</td>\n",
       "      <td>KANSAS CITY, MO-KS MSA</td>\n",
       "      <td>2018-08-11</td>\n",
       "      <td>surf</td>\n",
       "      <td>Active</td>\n",
       "      <td>2018</td>\n",
       "      <td>8</td>\n",
       "      <td>11</td>\n",
       "    </tr>\n",
       "    <tr>\n",
       "      <th>482</th>\n",
       "      <td>1482</td>\n",
       "      <td>Armand</td>\n",
       "      <td>Glenn</td>\n",
       "      <td>70</td>\n",
       "      <td>NEW YORK-NEWARK-JERSEY CITY, NY-NJ-PA MSA</td>\n",
       "      <td>2018-01-01</td>\n",
       "      <td>ultimate</td>\n",
       "      <td>Active</td>\n",
       "      <td>2018</td>\n",
       "      <td>1</td>\n",
       "      <td>1</td>\n",
       "    </tr>\n",
       "    <tr>\n",
       "      <th>109</th>\n",
       "      <td>1109</td>\n",
       "      <td>Dominic</td>\n",
       "      <td>Salinas</td>\n",
       "      <td>41</td>\n",
       "      <td>NEW YORK-NEWARK-JERSEY CITY, NY-NJ-PA MSA</td>\n",
       "      <td>2018-02-16</td>\n",
       "      <td>surf</td>\n",
       "      <td>Active</td>\n",
       "      <td>2018</td>\n",
       "      <td>2</td>\n",
       "      <td>16</td>\n",
       "    </tr>\n",
       "  </tbody>\n",
       "</table>\n",
       "</div>"
      ],
      "text/plain": [
       "     user_id first_name last_name  age  \\\n",
       "366     1366        Rod      Huff   62   \n",
       "449     1449       Boyd    Kelley   39   \n",
       "295     1295       Hung   Flowers   68   \n",
       "482     1482     Armand     Glenn   70   \n",
       "109     1109    Dominic   Salinas   41   \n",
       "\n",
       "                                          city   reg_date      plan  \\\n",
       "366                   CINCINNATI, OH-KY-IN MSA 2018-07-30      surf   \n",
       "449            SEATTLE-TACOMA-BELLEVUE, WA MSA 2018-10-04      surf   \n",
       "295                     KANSAS CITY, MO-KS MSA 2018-08-11      surf   \n",
       "482  NEW YORK-NEWARK-JERSEY CITY, NY-NJ-PA MSA 2018-01-01  ultimate   \n",
       "109  NEW YORK-NEWARK-JERSEY CITY, NY-NJ-PA MSA 2018-02-16      surf   \n",
       "\n",
       "    churn_date  year  month  day  \n",
       "366     Active  2018      7   30  \n",
       "449     Active  2018     10    4  \n",
       "295     Active  2018      8   11  \n",
       "482     Active  2018      1    1  \n",
       "109     Active  2018      2   16  "
      ]
     },
     "execution_count": 15,
     "metadata": {},
     "output_type": "execute_result"
    }
   ],
   "source": [
    "# Filling missing values\n",
    "df_users['churn_date'].fillna('Active',inplace=True)\n",
    "\n",
    "# Splitting reg_date field\n",
    "df_users['year'] = df_users['reg_date'].dt.year\n",
    "df_users['month'] = df_users['reg_date'].dt.month\n",
    "df_users['day'] = df_users['reg_date'].dt.day\n",
    "\n",
    "print(f\"From year {df_users['year'].min()} to {df_users['year'].max()}\")\n",
    "df_users.sample(5)"
   ]
  },
  {
   "cell_type": "markdown",
   "metadata": {},
   "source": [
    "### CALLS"
   ]
  },
  {
   "cell_type": "code",
   "execution_count": 16,
   "metadata": {},
   "outputs": [],
   "source": [
    "# Converting datatype to datetime\n",
    "df_calls['call_date'] = pd.to_datetime(df_calls['call_date'],format='%Y-%m-%d')"
   ]
  },
  {
   "cell_type": "code",
   "execution_count": 17,
   "metadata": {},
   "outputs": [
    {
     "name": "stdout",
     "output_type": "stream",
     "text": [
      "From year 2018 to 2018\n"
     ]
    },
    {
     "data": {
      "text/html": [
       "<div>\n",
       "<style scoped>\n",
       "    .dataframe tbody tr th:only-of-type {\n",
       "        vertical-align: middle;\n",
       "    }\n",
       "\n",
       "    .dataframe tbody tr th {\n",
       "        vertical-align: top;\n",
       "    }\n",
       "\n",
       "    .dataframe thead th {\n",
       "        text-align: right;\n",
       "    }\n",
       "</style>\n",
       "<table border=\"1\" class=\"dataframe\">\n",
       "  <thead>\n",
       "    <tr style=\"text-align: right;\">\n",
       "      <th></th>\n",
       "      <th>id</th>\n",
       "      <th>user_id</th>\n",
       "      <th>call_date</th>\n",
       "      <th>duration</th>\n",
       "      <th>duration_rounded</th>\n",
       "      <th>year</th>\n",
       "      <th>month</th>\n",
       "      <th>day</th>\n",
       "    </tr>\n",
       "  </thead>\n",
       "  <tbody>\n",
       "    <tr>\n",
       "      <th>18412</th>\n",
       "      <td>1071_192</td>\n",
       "      <td>1071</td>\n",
       "      <td>2018-07-22</td>\n",
       "      <td>0.00</td>\n",
       "      <td>0.0</td>\n",
       "      <td>2018</td>\n",
       "      <td>7</td>\n",
       "      <td>22</td>\n",
       "    </tr>\n",
       "    <tr>\n",
       "      <th>58983</th>\n",
       "      <td>1214_52</td>\n",
       "      <td>1214</td>\n",
       "      <td>2018-08-30</td>\n",
       "      <td>12.08</td>\n",
       "      <td>13.0</td>\n",
       "      <td>2018</td>\n",
       "      <td>8</td>\n",
       "      <td>30</td>\n",
       "    </tr>\n",
       "    <tr>\n",
       "      <th>54597</th>\n",
       "      <td>1196_487</td>\n",
       "      <td>1196</td>\n",
       "      <td>2018-06-05</td>\n",
       "      <td>10.29</td>\n",
       "      <td>11.0</td>\n",
       "      <td>2018</td>\n",
       "      <td>6</td>\n",
       "      <td>5</td>\n",
       "    </tr>\n",
       "    <tr>\n",
       "      <th>66386</th>\n",
       "      <td>1240_244</td>\n",
       "      <td>1240</td>\n",
       "      <td>2018-12-23</td>\n",
       "      <td>12.16</td>\n",
       "      <td>13.0</td>\n",
       "      <td>2018</td>\n",
       "      <td>12</td>\n",
       "      <td>23</td>\n",
       "    </tr>\n",
       "    <tr>\n",
       "      <th>103772</th>\n",
       "      <td>1365_968</td>\n",
       "      <td>1365</td>\n",
       "      <td>2018-11-26</td>\n",
       "      <td>9.38</td>\n",
       "      <td>10.0</td>\n",
       "      <td>2018</td>\n",
       "      <td>11</td>\n",
       "      <td>26</td>\n",
       "    </tr>\n",
       "  </tbody>\n",
       "</table>\n",
       "</div>"
      ],
      "text/plain": [
       "              id  user_id  call_date  duration  duration_rounded  year  month  \\\n",
       "18412   1071_192     1071 2018-07-22      0.00               0.0  2018      7   \n",
       "58983    1214_52     1214 2018-08-30     12.08              13.0  2018      8   \n",
       "54597   1196_487     1196 2018-06-05     10.29              11.0  2018      6   \n",
       "66386   1240_244     1240 2018-12-23     12.16              13.0  2018     12   \n",
       "103772  1365_968     1365 2018-11-26      9.38              10.0  2018     11   \n",
       "\n",
       "        day  \n",
       "18412    22  \n",
       "58983    30  \n",
       "54597     5  \n",
       "66386    23  \n",
       "103772   26  "
      ]
     },
     "execution_count": 17,
     "metadata": {},
     "output_type": "execute_result"
    }
   ],
   "source": [
    "# Rounding up duration field\n",
    "df_calls['duration_rounded'] = np.ceil(df_calls['duration'])\n",
    "\n",
    "\n",
    "# Splitting call_date field\n",
    "df_calls['year'] = df_calls['call_date'].dt.year\n",
    "df_calls['month'] = df_calls['call_date'].dt.month\n",
    "df_calls['day'] = df_calls['call_date'].dt.day\n",
    "\n",
    "print(f\"From year {df_calls['year'].min()} to {df_calls['year'].max()}\")\n",
    "df_calls.sample(5)"
   ]
  },
  {
   "cell_type": "markdown",
   "metadata": {},
   "source": [
    "### MESSAGES"
   ]
  },
  {
   "cell_type": "code",
   "execution_count": 18,
   "metadata": {},
   "outputs": [
    {
     "name": "stdout",
     "output_type": "stream",
     "text": [
      "From year 2018 to 2018\n"
     ]
    },
    {
     "data": {
      "text/html": [
       "<div>\n",
       "<style scoped>\n",
       "    .dataframe tbody tr th:only-of-type {\n",
       "        vertical-align: middle;\n",
       "    }\n",
       "\n",
       "    .dataframe tbody tr th {\n",
       "        vertical-align: top;\n",
       "    }\n",
       "\n",
       "    .dataframe thead th {\n",
       "        text-align: right;\n",
       "    }\n",
       "</style>\n",
       "<table border=\"1\" class=\"dataframe\">\n",
       "  <thead>\n",
       "    <tr style=\"text-align: right;\">\n",
       "      <th></th>\n",
       "      <th>id</th>\n",
       "      <th>user_id</th>\n",
       "      <th>call_date</th>\n",
       "      <th>duration</th>\n",
       "      <th>duration_rounded</th>\n",
       "      <th>year</th>\n",
       "      <th>month</th>\n",
       "      <th>day</th>\n",
       "    </tr>\n",
       "  </thead>\n",
       "  <tbody>\n",
       "    <tr>\n",
       "      <th>48945</th>\n",
       "      <td>1176_44</td>\n",
       "      <td>1176</td>\n",
       "      <td>2018-11-13</td>\n",
       "      <td>11.00</td>\n",
       "      <td>11.0</td>\n",
       "      <td>2018</td>\n",
       "      <td>11</td>\n",
       "      <td>13</td>\n",
       "    </tr>\n",
       "    <tr>\n",
       "      <th>125863</th>\n",
       "      <td>1445_278</td>\n",
       "      <td>1445</td>\n",
       "      <td>2018-06-05</td>\n",
       "      <td>8.40</td>\n",
       "      <td>9.0</td>\n",
       "      <td>2018</td>\n",
       "      <td>6</td>\n",
       "      <td>5</td>\n",
       "    </tr>\n",
       "    <tr>\n",
       "      <th>51019</th>\n",
       "      <td>1185_57</td>\n",
       "      <td>1185</td>\n",
       "      <td>2018-07-16</td>\n",
       "      <td>2.64</td>\n",
       "      <td>3.0</td>\n",
       "      <td>2018</td>\n",
       "      <td>7</td>\n",
       "      <td>16</td>\n",
       "    </tr>\n",
       "    <tr>\n",
       "      <th>109121</th>\n",
       "      <td>1385_191</td>\n",
       "      <td>1385</td>\n",
       "      <td>2018-07-08</td>\n",
       "      <td>17.07</td>\n",
       "      <td>18.0</td>\n",
       "      <td>2018</td>\n",
       "      <td>7</td>\n",
       "      <td>8</td>\n",
       "    </tr>\n",
       "    <tr>\n",
       "      <th>87757</th>\n",
       "      <td>1321_573</td>\n",
       "      <td>1321</td>\n",
       "      <td>2018-09-21</td>\n",
       "      <td>20.59</td>\n",
       "      <td>21.0</td>\n",
       "      <td>2018</td>\n",
       "      <td>9</td>\n",
       "      <td>21</td>\n",
       "    </tr>\n",
       "  </tbody>\n",
       "</table>\n",
       "</div>"
      ],
      "text/plain": [
       "              id  user_id  call_date  duration  duration_rounded  year  month  \\\n",
       "48945    1176_44     1176 2018-11-13     11.00              11.0  2018     11   \n",
       "125863  1445_278     1445 2018-06-05      8.40               9.0  2018      6   \n",
       "51019    1185_57     1185 2018-07-16      2.64               3.0  2018      7   \n",
       "109121  1385_191     1385 2018-07-08     17.07              18.0  2018      7   \n",
       "87757   1321_573     1321 2018-09-21     20.59              21.0  2018      9   \n",
       "\n",
       "        day  \n",
       "48945    13  \n",
       "125863    5  \n",
       "51019    16  \n",
       "109121    8  \n",
       "87757    21  "
      ]
     },
     "execution_count": 18,
     "metadata": {},
     "output_type": "execute_result"
    }
   ],
   "source": [
    "# Converting datatype to datetime\n",
    "df_messages['message_date'] = pd.to_datetime(df_messages['message_date'],format='%Y-%m-%d')\n",
    "\n",
    "# Splitting message_date field \n",
    "df_messages['year'] = df_messages['message_date'].dt.year\n",
    "df_messages['month'] = df_messages['message_date'].dt.month\n",
    "df_messages['day'] = df_messages['message_date'].dt.day\n",
    "\n",
    "print(f\"From year {df_messages['year'].min()} to {df_messages['year'].max()}\")\n",
    "df_calls.sample(5)"
   ]
  },
  {
   "cell_type": "markdown",
   "metadata": {},
   "source": [
    "### INTERNET"
   ]
  },
  {
   "cell_type": "code",
   "execution_count": 19,
   "metadata": {},
   "outputs": [
    {
     "name": "stdout",
     "output_type": "stream",
     "text": [
      "From year 2018 to 2018\n"
     ]
    },
    {
     "data": {
      "text/html": [
       "<div>\n",
       "<style scoped>\n",
       "    .dataframe tbody tr th:only-of-type {\n",
       "        vertical-align: middle;\n",
       "    }\n",
       "\n",
       "    .dataframe tbody tr th {\n",
       "        vertical-align: top;\n",
       "    }\n",
       "\n",
       "    .dataframe thead th {\n",
       "        text-align: right;\n",
       "    }\n",
       "</style>\n",
       "<table border=\"1\" class=\"dataframe\">\n",
       "  <thead>\n",
       "    <tr style=\"text-align: right;\">\n",
       "      <th></th>\n",
       "      <th>id</th>\n",
       "      <th>user_id</th>\n",
       "      <th>session_date</th>\n",
       "      <th>mb_used</th>\n",
       "      <th>gb_used</th>\n",
       "      <th>year</th>\n",
       "      <th>month</th>\n",
       "      <th>day</th>\n",
       "    </tr>\n",
       "  </thead>\n",
       "  <tbody>\n",
       "    <tr>\n",
       "      <th>70276</th>\n",
       "      <td>1328_235</td>\n",
       "      <td>1328</td>\n",
       "      <td>2018-08-18</td>\n",
       "      <td>402.15</td>\n",
       "      <td>0.392725</td>\n",
       "      <td>2018</td>\n",
       "      <td>8</td>\n",
       "      <td>18</td>\n",
       "    </tr>\n",
       "    <tr>\n",
       "      <th>56794</th>\n",
       "      <td>1257_61</td>\n",
       "      <td>1257</td>\n",
       "      <td>2018-08-19</td>\n",
       "      <td>364.54</td>\n",
       "      <td>0.355996</td>\n",
       "      <td>2018</td>\n",
       "      <td>8</td>\n",
       "      <td>19</td>\n",
       "    </tr>\n",
       "    <tr>\n",
       "      <th>71503</th>\n",
       "      <td>1334_71</td>\n",
       "      <td>1334</td>\n",
       "      <td>2018-11-03</td>\n",
       "      <td>476.00</td>\n",
       "      <td>0.464844</td>\n",
       "      <td>2018</td>\n",
       "      <td>11</td>\n",
       "      <td>3</td>\n",
       "    </tr>\n",
       "    <tr>\n",
       "      <th>84677</th>\n",
       "      <td>1396_3</td>\n",
       "      <td>1396</td>\n",
       "      <td>2018-08-11</td>\n",
       "      <td>112.29</td>\n",
       "      <td>0.109658</td>\n",
       "      <td>2018</td>\n",
       "      <td>8</td>\n",
       "      <td>11</td>\n",
       "    </tr>\n",
       "    <tr>\n",
       "      <th>42135</th>\n",
       "      <td>1187_312</td>\n",
       "      <td>1187</td>\n",
       "      <td>2018-04-20</td>\n",
       "      <td>600.45</td>\n",
       "      <td>0.586377</td>\n",
       "      <td>2018</td>\n",
       "      <td>4</td>\n",
       "      <td>20</td>\n",
       "    </tr>\n",
       "  </tbody>\n",
       "</table>\n",
       "</div>"
      ],
      "text/plain": [
       "             id  user_id session_date  mb_used   gb_used  year  month  day\n",
       "70276  1328_235     1328   2018-08-18   402.15  0.392725  2018      8   18\n",
       "56794   1257_61     1257   2018-08-19   364.54  0.355996  2018      8   19\n",
       "71503   1334_71     1334   2018-11-03   476.00  0.464844  2018     11    3\n",
       "84677    1396_3     1396   2018-08-11   112.29  0.109658  2018      8   11\n",
       "42135  1187_312     1187   2018-04-20   600.45  0.586377  2018      4   20"
      ]
     },
     "execution_count": 19,
     "metadata": {},
     "output_type": "execute_result"
    }
   ],
   "source": [
    "# Converting datatype to datetime\n",
    "df_internet['session_date'] = pd.to_datetime(df_internet['session_date'],format='%Y-%m-%d')\n",
    "\n",
    "# Converting mgb to GBs\n",
    "df_internet['gb_used'] = df_internet['mb_used'] / 1024\n",
    "\n",
    "# Splitting message_date field \n",
    "df_internet['year'] = df_internet['session_date'].dt.year\n",
    "df_internet['month'] = df_internet['session_date'].dt.month\n",
    "df_internet['day'] = df_internet['session_date'].dt.day\n",
    "\n",
    "print(f\"From year {df_internet['year'].min()} to {df_internet['year'].max()}\")\n",
    "df_internet.sample(5)"
   ]
  },
  {
   "cell_type": "markdown",
   "metadata": {},
   "source": [
    "## REQUESTS\n",
    "\n",
    "1. The number of calls made and minutes used per month.\n",
    "2. The number of SMS sent per month.\n",
    "3. The volume of data used per month.\n",
    "4. The monthly revenue for each user."
   ]
  },
  {
   "cell_type": "markdown",
   "metadata": {},
   "source": [
    "### Calls/minutes per month"
   ]
  },
  {
   "cell_type": "code",
   "execution_count": 20,
   "metadata": {},
   "outputs": [
    {
     "data": {
      "text/html": [
       "<div>\n",
       "<style scoped>\n",
       "    .dataframe tbody tr th:only-of-type {\n",
       "        vertical-align: middle;\n",
       "    }\n",
       "\n",
       "    .dataframe tbody tr th {\n",
       "        vertical-align: top;\n",
       "    }\n",
       "\n",
       "    .dataframe thead tr th {\n",
       "        text-align: left;\n",
       "    }\n",
       "</style>\n",
       "<table border=\"1\" class=\"dataframe\">\n",
       "  <thead>\n",
       "    <tr>\n",
       "      <th></th>\n",
       "      <th>user_id</th>\n",
       "      <th>month</th>\n",
       "      <th>sum</th>\n",
       "      <th>count</th>\n",
       "    </tr>\n",
       "    <tr>\n",
       "      <th></th>\n",
       "      <th></th>\n",
       "      <th></th>\n",
       "      <th>duration</th>\n",
       "      <th>duration</th>\n",
       "    </tr>\n",
       "  </thead>\n",
       "  <tbody>\n",
       "    <tr>\n",
       "      <th>0</th>\n",
       "      <td>1000</td>\n",
       "      <td>12</td>\n",
       "      <td>116.83</td>\n",
       "      <td>16</td>\n",
       "    </tr>\n",
       "    <tr>\n",
       "      <th>1</th>\n",
       "      <td>1001</td>\n",
       "      <td>8</td>\n",
       "      <td>171.14</td>\n",
       "      <td>27</td>\n",
       "    </tr>\n",
       "    <tr>\n",
       "      <th>2</th>\n",
       "      <td>1001</td>\n",
       "      <td>9</td>\n",
       "      <td>297.69</td>\n",
       "      <td>49</td>\n",
       "    </tr>\n",
       "    <tr>\n",
       "      <th>3</th>\n",
       "      <td>1001</td>\n",
       "      <td>10</td>\n",
       "      <td>374.11</td>\n",
       "      <td>65</td>\n",
       "    </tr>\n",
       "    <tr>\n",
       "      <th>4</th>\n",
       "      <td>1001</td>\n",
       "      <td>11</td>\n",
       "      <td>404.59</td>\n",
       "      <td>64</td>\n",
       "    </tr>\n",
       "    <tr>\n",
       "      <th>...</th>\n",
       "      <td>...</td>\n",
       "      <td>...</td>\n",
       "      <td>...</td>\n",
       "      <td>...</td>\n",
       "    </tr>\n",
       "    <tr>\n",
       "      <th>2253</th>\n",
       "      <td>1498</td>\n",
       "      <td>12</td>\n",
       "      <td>324.77</td>\n",
       "      <td>39</td>\n",
       "    </tr>\n",
       "    <tr>\n",
       "      <th>2254</th>\n",
       "      <td>1499</td>\n",
       "      <td>9</td>\n",
       "      <td>330.37</td>\n",
       "      <td>41</td>\n",
       "    </tr>\n",
       "    <tr>\n",
       "      <th>2255</th>\n",
       "      <td>1499</td>\n",
       "      <td>10</td>\n",
       "      <td>363.28</td>\n",
       "      <td>53</td>\n",
       "    </tr>\n",
       "    <tr>\n",
       "      <th>2256</th>\n",
       "      <td>1499</td>\n",
       "      <td>11</td>\n",
       "      <td>288.56</td>\n",
       "      <td>45</td>\n",
       "    </tr>\n",
       "    <tr>\n",
       "      <th>2257</th>\n",
       "      <td>1499</td>\n",
       "      <td>12</td>\n",
       "      <td>468.10</td>\n",
       "      <td>65</td>\n",
       "    </tr>\n",
       "  </tbody>\n",
       "</table>\n",
       "<p>2258 rows × 4 columns</p>\n",
       "</div>"
      ],
      "text/plain": [
       "     user_id month      sum    count\n",
       "                   duration duration\n",
       "0       1000    12   116.83       16\n",
       "1       1001     8   171.14       27\n",
       "2       1001     9   297.69       49\n",
       "3       1001    10   374.11       65\n",
       "4       1001    11   404.59       64\n",
       "...      ...   ...      ...      ...\n",
       "2253    1498    12   324.77       39\n",
       "2254    1499     9   330.37       41\n",
       "2255    1499    10   363.28       53\n",
       "2256    1499    11   288.56       45\n",
       "2257    1499    12   468.10       65\n",
       "\n",
       "[2258 rows x 4 columns]"
      ]
     },
     "execution_count": 20,
     "metadata": {},
     "output_type": "execute_result"
    }
   ],
   "source": [
    "pivot_calls = df_calls.pivot_table(index=['user_id', 'month'],\n",
    "                                    values=['duration'],\n",
    "                                    aggfunc=['sum','count']).reset_index()\n",
    "pivot_calls\n"
   ]
  },
  {
   "cell_type": "code",
   "execution_count": 21,
   "metadata": {},
   "outputs": [
    {
     "data": {
      "image/png": "[encoded data removed]",
      "text/plain": [
       "<Figure size 1200x600 with 2 Axes>"
      ]
     },
     "metadata": {},
     "output_type": "display_data"
    }
   ],
   "source": [
    "# Charts\n",
    "calls_tduration = pivot_calls.groupby('month')['sum'].sum().reset_index()\n",
    "calls_total = pivot_calls.groupby('month')['count'].sum().reset_index()\n",
    "\n",
    "fig, (ax1, ax2) = plt.subplots(1, 2, figsize=(12, 6))\n",
    "\n",
    "# Total time chart\n",
    "ax1.bar(calls_tduration['month'],\n",
    "        calls_tduration[('sum', 'duration')],\n",
    "        color ='cadetblue'\n",
    "        )\n",
    "        \n",
    "ax1.set_title('Total minutes used per month')\n",
    "ax1.set_xlabel('Months')\n",
    "ax1.set_ylabel('Total time')\n",
    "ax1.grid(True)\n",
    "\n",
    "# Total calls chart\n",
    "ax2.bar(calls_total['month'],\n",
    "        calls_total[('count', 'duration')],\n",
    "        color = 'steelblue'\n",
    "        )\n",
    "ax2.set_title('Total calls made per month')\n",
    "ax2.set_xlabel('Months')\n",
    "ax2.set_ylabel('Number of calls')\n",
    "ax2.grid(True)\n"
   ]
  },
  {
   "cell_type": "markdown",
   "metadata": {},
   "source": [
    "Remarks\n",
    "\n",
    "- We can see that every month the number of minutes used increases, as well as the number of calls, with December being the highest month in both cases."
   ]
  },
  {
   "cell_type": "markdown",
   "metadata": {},
   "source": [
    "### SMS sent per month"
   ]
  },
  {
   "cell_type": "code",
   "execution_count": 22,
   "metadata": {},
   "outputs": [
    {
     "data": {
      "text/plain": [
       "<Axes: title={'center': 'Total SMS sent per month'}, xlabel='Months', ylabel='Number of messages'>"
      ]
     },
     "execution_count": 22,
     "metadata": {},
     "output_type": "execute_result"
    },
    {
     "data": {
      "image/png": "[encoded data removed]",
      "text/plain": [
       "<Figure size 640x480 with 1 Axes>"
      ]
     },
     "metadata": {},
     "output_type": "display_data"
    }
   ],
   "source": [
    "# Request 2\n",
    "df_monthly_messages = df_messages.groupby(['user_id','month'])['id'].count().reset_index()\n",
    "df_monthly_messages.rename(columns={'id':'messages'},inplace=True)\n",
    "messages_total = df_monthly_messages.groupby('month')['messages'].sum().reset_index()\n",
    "\n",
    "messages_total.plot(x='month',\n",
    "                    y='messages',\n",
    "                    title='Total SMS sent per month',\n",
    "                    xlabel='Months',\n",
    "                    ylabel='Number of messages',\n",
    "                    color='olivedrab',\n",
    "                    kind='bar',\n",
    "                    legend=False,\n",
    "                    )\n"
   ]
  },
  {
   "cell_type": "markdown",
   "metadata": {},
   "source": [
    "Remarks\n",
    "\n",
    "- We can see that every month the number of SMS sent increases, as well as the previous charts, with December being the highest month in both cases."
   ]
  },
  {
   "cell_type": "markdown",
   "metadata": {},
   "source": [
    "### GB used per month"
   ]
  },
  {
   "cell_type": "code",
   "execution_count": 23,
   "metadata": {},
   "outputs": [
    {
     "data": {
      "text/plain": [
       "<Axes: title={'center': 'Total GBs used per month'}, xlabel='Months', ylabel='Gigabytes'>"
      ]
     },
     "execution_count": 23,
     "metadata": {},
     "output_type": "execute_result"
    },
    {
     "data": {
      "image/png": "[encoded data removed]",
      "text/plain": [
       "<Figure size 640x480 with 1 Axes>"
      ]
     },
     "metadata": {},
     "output_type": "display_data"
    }
   ],
   "source": [
    "# Request 3\n",
    "df_monthly_gbs = df_internet.groupby(['user_id','month'])['gb_used'].sum().reset_index()\n",
    "internet_used = df_monthly_gbs.groupby('month')['gb_used'].sum().reset_index()\n",
    "\n",
    "internet_used.plot(x='month',\n",
    "                    y='gb_used',\n",
    "                    title='Total GBs used per month',\n",
    "                    xlabel='Months',\n",
    "                    ylabel='Gigabytes',\n",
    "                    color='orangered',\n",
    "                    kind='bar',\n",
    "                    legend=False,\n",
    "                    )"
   ]
  },
  {
   "cell_type": "markdown",
   "metadata": {},
   "source": [
    "Remarks\n",
    "\n",
    "- A similar trend can be observed with the GB used per month."
   ]
  },
  {
   "cell_type": "markdown",
   "metadata": {},
   "source": [
    "### Income get per month"
   ]
  },
  {
   "cell_type": "code",
   "execution_count": 24,
   "metadata": {},
   "outputs": [
    {
     "data": {
      "text/html": [
       "<div>\n",
       "<style scoped>\n",
       "    .dataframe tbody tr th:only-of-type {\n",
       "        vertical-align: middle;\n",
       "    }\n",
       "\n",
       "    .dataframe tbody tr th {\n",
       "        vertical-align: top;\n",
       "    }\n",
       "\n",
       "    .dataframe thead th {\n",
       "        text-align: right;\n",
       "    }\n",
       "</style>\n",
       "<table border=\"1\" class=\"dataframe\">\n",
       "  <thead>\n",
       "    <tr style=\"text-align: right;\">\n",
       "      <th></th>\n",
       "      <th>user_id</th>\n",
       "      <th>month</th>\n",
       "      <th>calls</th>\n",
       "      <th>duration</th>\n",
       "      <th>messages</th>\n",
       "      <th>gb_used</th>\n",
       "      <th>plan_name</th>\n",
       "      <th>messages_included</th>\n",
       "      <th>minutes_included</th>\n",
       "      <th>usd_monthly_pay</th>\n",
       "      <th>usd_per_gb</th>\n",
       "      <th>usd_per_message</th>\n",
       "      <th>usd_per_minute</th>\n",
       "      <th>gb_per_month_included</th>\n",
       "      <th>dif_messages</th>\n",
       "      <th>dif_minutes</th>\n",
       "      <th>dif_gb</th>\n",
       "      <th>monthly_income</th>\n",
       "    </tr>\n",
       "  </thead>\n",
       "  <tbody>\n",
       "    <tr>\n",
       "      <th>0</th>\n",
       "      <td>1000</td>\n",
       "      <td>12</td>\n",
       "      <td>16.0</td>\n",
       "      <td>116.83</td>\n",
       "      <td>11.0</td>\n",
       "      <td>1.856904</td>\n",
       "      <td>ultimate</td>\n",
       "      <td>1000</td>\n",
       "      <td>3000</td>\n",
       "      <td>70</td>\n",
       "      <td>7</td>\n",
       "      <td>0.01</td>\n",
       "      <td>0.01</td>\n",
       "      <td>30.0</td>\n",
       "      <td>0.0</td>\n",
       "      <td>0.0</td>\n",
       "      <td>0.0</td>\n",
       "      <td>70.00</td>\n",
       "    </tr>\n",
       "    <tr>\n",
       "      <th>1</th>\n",
       "      <td>1001</td>\n",
       "      <td>8</td>\n",
       "      <td>27.0</td>\n",
       "      <td>171.14</td>\n",
       "      <td>30.0</td>\n",
       "      <td>6.756982</td>\n",
       "      <td>surf</td>\n",
       "      <td>50</td>\n",
       "      <td>500</td>\n",
       "      <td>20</td>\n",
       "      <td>10</td>\n",
       "      <td>0.03</td>\n",
       "      <td>0.03</td>\n",
       "      <td>15.0</td>\n",
       "      <td>0.0</td>\n",
       "      <td>0.0</td>\n",
       "      <td>0.0</td>\n",
       "      <td>20.00</td>\n",
       "    </tr>\n",
       "    <tr>\n",
       "      <th>2</th>\n",
       "      <td>1001</td>\n",
       "      <td>9</td>\n",
       "      <td>49.0</td>\n",
       "      <td>297.69</td>\n",
       "      <td>44.0</td>\n",
       "      <td>13.002754</td>\n",
       "      <td>surf</td>\n",
       "      <td>50</td>\n",
       "      <td>500</td>\n",
       "      <td>20</td>\n",
       "      <td>10</td>\n",
       "      <td>0.03</td>\n",
       "      <td>0.03</td>\n",
       "      <td>15.0</td>\n",
       "      <td>0.0</td>\n",
       "      <td>0.0</td>\n",
       "      <td>0.0</td>\n",
       "      <td>20.00</td>\n",
       "    </tr>\n",
       "    <tr>\n",
       "      <th>3</th>\n",
       "      <td>1001</td>\n",
       "      <td>10</td>\n",
       "      <td>65.0</td>\n",
       "      <td>374.11</td>\n",
       "      <td>53.0</td>\n",
       "      <td>21.807119</td>\n",
       "      <td>surf</td>\n",
       "      <td>50</td>\n",
       "      <td>500</td>\n",
       "      <td>20</td>\n",
       "      <td>10</td>\n",
       "      <td>0.03</td>\n",
       "      <td>0.03</td>\n",
       "      <td>15.0</td>\n",
       "      <td>3.0</td>\n",
       "      <td>0.0</td>\n",
       "      <td>7.0</td>\n",
       "      <td>90.09</td>\n",
       "    </tr>\n",
       "    <tr>\n",
       "      <th>4</th>\n",
       "      <td>1001</td>\n",
       "      <td>11</td>\n",
       "      <td>64.0</td>\n",
       "      <td>404.59</td>\n",
       "      <td>36.0</td>\n",
       "      <td>18.070605</td>\n",
       "      <td>surf</td>\n",
       "      <td>50</td>\n",
       "      <td>500</td>\n",
       "      <td>20</td>\n",
       "      <td>10</td>\n",
       "      <td>0.03</td>\n",
       "      <td>0.03</td>\n",
       "      <td>15.0</td>\n",
       "      <td>0.0</td>\n",
       "      <td>0.0</td>\n",
       "      <td>4.0</td>\n",
       "      <td>60.00</td>\n",
       "    </tr>\n",
       "    <tr>\n",
       "      <th>5</th>\n",
       "      <td>1001</td>\n",
       "      <td>12</td>\n",
       "      <td>56.0</td>\n",
       "      <td>392.93</td>\n",
       "      <td>44.0</td>\n",
       "      <td>18.915215</td>\n",
       "      <td>surf</td>\n",
       "      <td>50</td>\n",
       "      <td>500</td>\n",
       "      <td>20</td>\n",
       "      <td>10</td>\n",
       "      <td>0.03</td>\n",
       "      <td>0.03</td>\n",
       "      <td>15.0</td>\n",
       "      <td>0.0</td>\n",
       "      <td>0.0</td>\n",
       "      <td>4.0</td>\n",
       "      <td>60.00</td>\n",
       "    </tr>\n",
       "    <tr>\n",
       "      <th>6</th>\n",
       "      <td>1002</td>\n",
       "      <td>10</td>\n",
       "      <td>11.0</td>\n",
       "      <td>54.13</td>\n",
       "      <td>15.0</td>\n",
       "      <td>6.398447</td>\n",
       "      <td>surf</td>\n",
       "      <td>50</td>\n",
       "      <td>500</td>\n",
       "      <td>20</td>\n",
       "      <td>10</td>\n",
       "      <td>0.03</td>\n",
       "      <td>0.03</td>\n",
       "      <td>15.0</td>\n",
       "      <td>0.0</td>\n",
       "      <td>0.0</td>\n",
       "      <td>0.0</td>\n",
       "      <td>20.00</td>\n",
       "    </tr>\n",
       "    <tr>\n",
       "      <th>7</th>\n",
       "      <td>1002</td>\n",
       "      <td>11</td>\n",
       "      <td>55.0</td>\n",
       "      <td>359.76</td>\n",
       "      <td>32.0</td>\n",
       "      <td>18.891680</td>\n",
       "      <td>surf</td>\n",
       "      <td>50</td>\n",
       "      <td>500</td>\n",
       "      <td>20</td>\n",
       "      <td>10</td>\n",
       "      <td>0.03</td>\n",
       "      <td>0.03</td>\n",
       "      <td>15.0</td>\n",
       "      <td>0.0</td>\n",
       "      <td>0.0</td>\n",
       "      <td>4.0</td>\n",
       "      <td>60.00</td>\n",
       "    </tr>\n",
       "    <tr>\n",
       "      <th>8</th>\n",
       "      <td>1002</td>\n",
       "      <td>12</td>\n",
       "      <td>47.0</td>\n",
       "      <td>363.24</td>\n",
       "      <td>41.0</td>\n",
       "      <td>14.058828</td>\n",
       "      <td>surf</td>\n",
       "      <td>50</td>\n",
       "      <td>500</td>\n",
       "      <td>20</td>\n",
       "      <td>10</td>\n",
       "      <td>0.03</td>\n",
       "      <td>0.03</td>\n",
       "      <td>15.0</td>\n",
       "      <td>0.0</td>\n",
       "      <td>0.0</td>\n",
       "      <td>-0.0</td>\n",
       "      <td>20.00</td>\n",
       "    </tr>\n",
       "    <tr>\n",
       "      <th>9</th>\n",
       "      <td>1003</td>\n",
       "      <td>12</td>\n",
       "      <td>149.0</td>\n",
       "      <td>1041.00</td>\n",
       "      <td>50.0</td>\n",
       "      <td>26.410293</td>\n",
       "      <td>surf</td>\n",
       "      <td>50</td>\n",
       "      <td>500</td>\n",
       "      <td>20</td>\n",
       "      <td>10</td>\n",
       "      <td>0.03</td>\n",
       "      <td>0.03</td>\n",
       "      <td>15.0</td>\n",
       "      <td>0.0</td>\n",
       "      <td>541.0</td>\n",
       "      <td>12.0</td>\n",
       "      <td>156.23</td>\n",
       "    </tr>\n",
       "    <tr>\n",
       "      <th>10</th>\n",
       "      <td>1004</td>\n",
       "      <td>5</td>\n",
       "      <td>21.0</td>\n",
       "      <td>181.58</td>\n",
       "      <td>7.0</td>\n",
       "      <td>6.393760</td>\n",
       "      <td>surf</td>\n",
       "      <td>50</td>\n",
       "      <td>500</td>\n",
       "      <td>20</td>\n",
       "      <td>10</td>\n",
       "      <td>0.03</td>\n",
       "      <td>0.03</td>\n",
       "      <td>15.0</td>\n",
       "      <td>0.0</td>\n",
       "      <td>0.0</td>\n",
       "      <td>0.0</td>\n",
       "      <td>20.00</td>\n",
       "    </tr>\n",
       "    <tr>\n",
       "      <th>11</th>\n",
       "      <td>1004</td>\n",
       "      <td>6</td>\n",
       "      <td>44.0</td>\n",
       "      <td>261.32</td>\n",
       "      <td>18.0</td>\n",
       "      <td>20.188301</td>\n",
       "      <td>surf</td>\n",
       "      <td>50</td>\n",
       "      <td>500</td>\n",
       "      <td>20</td>\n",
       "      <td>10</td>\n",
       "      <td>0.03</td>\n",
       "      <td>0.03</td>\n",
       "      <td>15.0</td>\n",
       "      <td>0.0</td>\n",
       "      <td>0.0</td>\n",
       "      <td>6.0</td>\n",
       "      <td>80.00</td>\n",
       "    </tr>\n",
       "    <tr>\n",
       "      <th>12</th>\n",
       "      <td>1004</td>\n",
       "      <td>7</td>\n",
       "      <td>49.0</td>\n",
       "      <td>358.45</td>\n",
       "      <td>26.0</td>\n",
       "      <td>23.942012</td>\n",
       "      <td>surf</td>\n",
       "      <td>50</td>\n",
       "      <td>500</td>\n",
       "      <td>20</td>\n",
       "      <td>10</td>\n",
       "      <td>0.03</td>\n",
       "      <td>0.03</td>\n",
       "      <td>15.0</td>\n",
       "      <td>0.0</td>\n",
       "      <td>0.0</td>\n",
       "      <td>9.0</td>\n",
       "      <td>110.00</td>\n",
       "    </tr>\n",
       "    <tr>\n",
       "      <th>13</th>\n",
       "      <td>1004</td>\n",
       "      <td>8</td>\n",
       "      <td>49.0</td>\n",
       "      <td>334.86</td>\n",
       "      <td>25.0</td>\n",
       "      <td>27.325918</td>\n",
       "      <td>surf</td>\n",
       "      <td>50</td>\n",
       "      <td>500</td>\n",
       "      <td>20</td>\n",
       "      <td>10</td>\n",
       "      <td>0.03</td>\n",
       "      <td>0.03</td>\n",
       "      <td>15.0</td>\n",
       "      <td>0.0</td>\n",
       "      <td>0.0</td>\n",
       "      <td>13.0</td>\n",
       "      <td>150.00</td>\n",
       "    </tr>\n",
       "    <tr>\n",
       "      <th>14</th>\n",
       "      <td>1004</td>\n",
       "      <td>9</td>\n",
       "      <td>42.0</td>\n",
       "      <td>284.60</td>\n",
       "      <td>21.0</td>\n",
       "      <td>18.410859</td>\n",
       "      <td>surf</td>\n",
       "      <td>50</td>\n",
       "      <td>500</td>\n",
       "      <td>20</td>\n",
       "      <td>10</td>\n",
       "      <td>0.03</td>\n",
       "      <td>0.03</td>\n",
       "      <td>15.0</td>\n",
       "      <td>0.0</td>\n",
       "      <td>0.0</td>\n",
       "      <td>4.0</td>\n",
       "      <td>60.00</td>\n",
       "    </tr>\n",
       "  </tbody>\n",
       "</table>\n",
       "</div>"
      ],
      "text/plain": [
       "    user_id  month  calls  duration  messages    gb_used plan_name  \\\n",
       "0      1000     12   16.0    116.83      11.0   1.856904  ultimate   \n",
       "1      1001      8   27.0    171.14      30.0   6.756982      surf   \n",
       "2      1001      9   49.0    297.69      44.0  13.002754      surf   \n",
       "3      1001     10   65.0    374.11      53.0  21.807119      surf   \n",
       "4      1001     11   64.0    404.59      36.0  18.070605      surf   \n",
       "5      1001     12   56.0    392.93      44.0  18.915215      surf   \n",
       "6      1002     10   11.0     54.13      15.0   6.398447      surf   \n",
       "7      1002     11   55.0    359.76      32.0  18.891680      surf   \n",
       "8      1002     12   47.0    363.24      41.0  14.058828      surf   \n",
       "9      1003     12  149.0   1041.00      50.0  26.410293      surf   \n",
       "10     1004      5   21.0    181.58       7.0   6.393760      surf   \n",
       "11     1004      6   44.0    261.32      18.0  20.188301      surf   \n",
       "12     1004      7   49.0    358.45      26.0  23.942012      surf   \n",
       "13     1004      8   49.0    334.86      25.0  27.325918      surf   \n",
       "14     1004      9   42.0    284.60      21.0  18.410859      surf   \n",
       "\n",
       "    messages_included  minutes_included  usd_monthly_pay  usd_per_gb  \\\n",
       "0                1000              3000               70           7   \n",
       "1                  50               500               20          10   \n",
       "2                  50               500               20          10   \n",
       "3                  50               500               20          10   \n",
       "4                  50               500               20          10   \n",
       "5                  50               500               20          10   \n",
       "6                  50               500               20          10   \n",
       "7                  50               500               20          10   \n",
       "8                  50               500               20          10   \n",
       "9                  50               500               20          10   \n",
       "10                 50               500               20          10   \n",
       "11                 50               500               20          10   \n",
       "12                 50               500               20          10   \n",
       "13                 50               500               20          10   \n",
       "14                 50               500               20          10   \n",
       "\n",
       "    usd_per_message  usd_per_minute  gb_per_month_included  dif_messages  \\\n",
       "0              0.01            0.01                   30.0           0.0   \n",
       "1              0.03            0.03                   15.0           0.0   \n",
       "2              0.03            0.03                   15.0           0.0   \n",
       "3              0.03            0.03                   15.0           3.0   \n",
       "4              0.03            0.03                   15.0           0.0   \n",
       "5              0.03            0.03                   15.0           0.0   \n",
       "6              0.03            0.03                   15.0           0.0   \n",
       "7              0.03            0.03                   15.0           0.0   \n",
       "8              0.03            0.03                   15.0           0.0   \n",
       "9              0.03            0.03                   15.0           0.0   \n",
       "10             0.03            0.03                   15.0           0.0   \n",
       "11             0.03            0.03                   15.0           0.0   \n",
       "12             0.03            0.03                   15.0           0.0   \n",
       "13             0.03            0.03                   15.0           0.0   \n",
       "14             0.03            0.03                   15.0           0.0   \n",
       "\n",
       "    dif_minutes  dif_gb  monthly_income  \n",
       "0           0.0     0.0           70.00  \n",
       "1           0.0     0.0           20.00  \n",
       "2           0.0     0.0           20.00  \n",
       "3           0.0     7.0           90.09  \n",
       "4           0.0     4.0           60.00  \n",
       "5           0.0     4.0           60.00  \n",
       "6           0.0     0.0           20.00  \n",
       "7           0.0     4.0           60.00  \n",
       "8           0.0    -0.0           20.00  \n",
       "9         541.0    12.0          156.23  \n",
       "10          0.0     0.0           20.00  \n",
       "11          0.0     6.0           80.00  \n",
       "12          0.0     9.0          110.00  \n",
       "13          0.0    13.0          150.00  \n",
       "14          0.0     4.0           60.00  "
      ]
     },
     "execution_count": 24,
     "metadata": {},
     "output_type": "execute_result"
    }
   ],
   "source": [
    "# Getting calls data\n",
    "df_monthly_calls = df_calls.groupby(['user_id','month'])['id'].count().reset_index()\n",
    "df_monthly_calls.rename(columns = {'id':'calls'},inplace=True)\n",
    "\n",
    "# Getting minutes data\n",
    "df_monthly_min_used = df_calls.groupby(['user_id','month'])['duration'].sum().reset_index()\n",
    "\n",
    "# Creating DF\n",
    "df_1 = df_monthly_calls.merge(df_monthly_min_used,how='outer')\n",
    "df_2 = df_monthly_messages.merge(df_monthly_gbs,how='outer') \n",
    "df_summary = df_1.merge(df_2,how='outer')\n",
    "df_summary = df_summary.merge(df_users[['user_id','plan']],how='left',on='user_id')\n",
    "df_summary.rename(columns={'plan':'plan_name'},inplace=True)    #Renaming field to match df_plans field name\n",
    "df_summary = df_summary.merge(df_plans.loc[:, df_plans.columns != 'mb_per_month_included'],how='left',on='plan_name')\n",
    "\n",
    "# Filling missing data\n",
    "df_summary.fillna(0,inplace=True)\n",
    "\n",
    "\n",
    "# SMS\n",
    "df_summary['dif_messages'] = df_summary['messages'] - df_summary['messages_included']\n",
    "df_summary['dif_messages'] = df_summary['dif_messages'].apply(lambda x: max(x,0))\n",
    "\n",
    "# Minutes\n",
    "df_summary['dif_minutes'] = round(df_summary['duration'],0) - df_summary['minutes_included']\n",
    "df_summary['dif_minutes'] = df_summary['dif_minutes'].apply(lambda x: max(x,0))\n",
    "\n",
    "# Internet\n",
    "df_summary['dif_gb'] = np.ceil(df_summary['gb_used'] - df_summary['gb_per_month_included'])\n",
    "df_summary['dif_gb'] = df_summary['dif_gb'].apply(lambda x: max(x,0))\n",
    "\n",
    "\n",
    "# Sub totals \n",
    "sub_message_income = df_summary['dif_messages'] * df_summary['usd_per_message']\n",
    "sub_gb_income = df_summary['dif_gb'] * df_summary['usd_per_gb']\n",
    "sub_minutes_income = df_summary['dif_minutes'] * df_summary['usd_per_minute']\n",
    "\n",
    "\n",
    "# Total income\n",
    "df_summary['monthly_income'] = df_summary['usd_monthly_pay'] + sub_message_income + sub_gb_income + sub_minutes_income\n",
    "\n",
    "df_summary.head(15)"
   ]
  },
  {
   "cell_type": "markdown",
   "metadata": {},
   "source": [
    "Remarks\n",
    "\n",
    "- We have created a new dataset to address the following questions:"
   ]
  },
  {
   "cell_type": "markdown",
   "metadata": {},
   "source": [
    "## QUESTIONS\n",
    "\n",
    "1. What is the average number of calls and minutes made per plan? \n",
    "2. What is the average number of SMS sent per plan?\n",
    "3. What is the average number of GB used per plan?\n",
    "4. What is the average number of income get per plan?"
   ]
  },
  {
   "cell_type": "markdown",
   "metadata": {},
   "source": [
    "### Calls/minutes used per plan"
   ]
  },
  {
   "cell_type": "code",
   "execution_count": 25,
   "metadata": {},
   "outputs": [],
   "source": [
    "# Creating \n",
    "\n",
    "def comparative_plans_bar_char(set_1,set_2,field,y_label='',color_1='blue',color_2='blue',x_label='Months',title=''):\n",
    "    # Getting Dataset\n",
    "\n",
    "\n",
    "    fig, (ax1, ax2) = plt.subplots(1, 2, figsize=(12, 6))\n",
    "\n",
    "    # Surf's plan\n",
    "    ax1.bar(set_1['month'],\n",
    "            set_1[field],\n",
    "            color = color_1,\n",
    "            )\n",
    "            \n",
    "    ax1.set_title(f\"Surf plan: {title}\")\n",
    "    ax1.set_xlabel(x_label)\n",
    "    ax1.set_ylabel(y_label)\n",
    "\n",
    "    # Ultimate's plan\n",
    "    ax2.bar(set_2['month'],\n",
    "            set_2[field],\n",
    "            color = color_2,\n",
    "            )\n",
    "\n",
    "    ax2.set_title(f\"Ultimate plan: {title}\")\n",
    "    ax2.set_xlabel(x_label)\n",
    "    ax2.set_ylabel(y_label)\n",
    "\n",
    "def comparative_plans_hist_char(set_1,set_2,field,color_1='blue',color_2='blue',x_label='',y_label='',title='',bins=30):\n",
    "        # Surf's plan\n",
    "        set_1[field].plot(kind = 'hist',\n",
    "                        bins=bins,\n",
    "                        color = color_1)\n",
    "\n",
    "        # Ultimate's plan\n",
    "        set_2[field].plot(kind = 'hist',\n",
    "                        bins=bins,\n",
    "                        alpha=0.8,\n",
    "                        color = color_2)\n",
    "\n",
    "        # Settings\n",
    "        plt.legend(['Surf', 'Ultimate'])\n",
    "        plt.title(title)\n",
    "        plt.xlabel(x_label)\n",
    "        plt.ylabel(y_label)\n",
    "\n",
    "def basic_metrics (set_1,set_2,field,color_1='blue',color_2='blue',x_label='',y_label='Distribution'):\n",
    "        set_1m = round(set_1[field].median(),2)\n",
    "        set_1v = round(np.var(set_1[field]),2)\n",
    "\n",
    "        set_2m = round(set_2[field].median(),2)\n",
    "        set_2v = round(np.var(set_2[field]),2)\n",
    "\n",
    "        # Data set structure\n",
    "        data = {\n",
    "                'Median':[set_1m,set_2m],\n",
    "                'Var':[set_1v,set_2v]\n",
    "        }\n",
    "        index = ['Surf', 'Ultimate']\n",
    "\n",
    "        # Chart settings\n",
    "        plt.figure(figsize=(12, 6))\n",
    "\n",
    "        # Surf plan\n",
    "        plt.subplot(1, 2, 1)  # (filas, columnas, índice)\n",
    "        sns.boxplot(x=set_1[field],\n",
    "                color = color_1\n",
    "        )\n",
    "        plt.title('Surf Plan boxplot')\n",
    "        plt.xlabel(x_label)\n",
    "        plt.ylabel(y_label)\n",
    "\n",
    "        # Ultimate plan\n",
    "        plt.subplot(1, 2, 2)  # (filas, columnas, índice)\n",
    "        sns.boxplot(x=set_2[field],\n",
    "                color= color_2\n",
    "                )\n",
    "        plt.title('Ultimate Plan boxplot')\n",
    "        plt.xlabel(x_label)\n",
    "        plt.ylabel(y_label)\n",
    "        plt.tight_layout()\n",
    "\n",
    "        # Showing metrics table\n",
    "        print (f\"Comparative metric's table: \\n\\n {pd.DataFrame(data,index= index)}\")\n"
   ]
  },
  {
   "cell_type": "markdown",
   "metadata": {},
   "source": [
    "#### Calls - Surf Vs Ultimate"
   ]
  },
  {
   "cell_type": "code",
   "execution_count": 26,
   "metadata": {},
   "outputs": [
    {
     "data": {
      "image/png": "[encoded data removed]",
      "text/plain": [
       "<Figure size 1200x600 with 2 Axes>"
      ]
     },
     "metadata": {},
     "output_type": "display_data"
    }
   ],
   "source": [
    "# Getting Dataset\n",
    "calls_mean = df_summary.groupby(['month','plan_name'])['calls'].mean().reset_index()\n",
    "\n",
    "# Plans\n",
    "surf_mean_calls = calls_mean[calls_mean['plan_name'] == 'surf']\n",
    "ultimate_mean_calls = calls_mean[calls_mean['plan_name'] == 'ultimate']\n",
    "\n",
    "comparative_plans_bar_char(set_1 = surf_mean_calls,\n",
    "                           color_1 = 'dodgerblue',\n",
    "                           set_2 = ultimate_mean_calls,\n",
    "                           color_2 = 'lightskyblue',\n",
    "                           field = 'calls',\n",
    "                           y_label = 'Calls',\n",
    "                           title = 'Average calls made per month')"
   ]
  },
  {
   "cell_type": "code",
   "execution_count": 46,
   "metadata": {},
   "outputs": [
    {
     "data": {
      "image/png": "[encoded data removed]",
      "text/plain": [
       "<Figure size 640x480 with 1 Axes>"
      ]
     },
     "metadata": {},
     "output_type": "display_data"
    }
   ],
   "source": [
    "# Getting Dataset\n",
    "calls_summary = df_summary[['plan_name','calls']] \n",
    "\n",
    "# Plans\n",
    "surf_calls_sumary = calls_summary[calls_summary['plan_name'] == 'surf']\n",
    "ultimate_calls_sumary = calls_summary[calls_summary['plan_name'] == 'ultimate']\n",
    "\n",
    "comparative_plans_hist_char(set_1= surf_calls_sumary,\n",
    "                            color_1='dodgerblue',\n",
    "                            set_2 =ultimate_calls_sumary,\n",
    "                            color_2='lightskyblue',\n",
    "                            field ='calls',\n",
    "                            x_label='Calls (Intervals of 25)',\n",
    "                            y_label='Users',\n",
    "                            title='Distribution of calls made per plan',\n",
    "                            bins=8,\n",
    "                            )"
   ]
  },
  {
   "cell_type": "code",
   "execution_count": 28,
   "metadata": {},
   "outputs": [
    {
     "name": "stdout",
     "output_type": "stream",
     "text": [
      "Comparative metric's table: \n",
      "\n",
      "           Median    Var\n",
      "Surf       57.83  98.37\n",
      "Ultimate   58.49  99.72\n"
     ]
    },
    {
     "data": {
      "image/png": "[encoded data removed]",
      "text/plain": [
       "<Figure size 1200x600 with 2 Axes>"
      ]
     },
     "metadata": {},
     "output_type": "display_data"
    }
   ],
   "source": [
    "# Getting metric charts\n",
    "basic_metrics(set_1 = surf_mean_calls,\n",
    "            color_1 ='dodgerblue',\n",
    "            set_2 = ultimate_mean_calls,\n",
    "            color_2='lightskyblue',\n",
    "            x_label = 'Calls',\n",
    "            field = 'calls')"
   ]
  },
  {
   "cell_type": "markdown",
   "metadata": {},
   "source": [
    "Remarks\n",
    "\n",
    "- The call distribution for both plans is left-skewed relative to their mean values.\n",
    "- The average for both plans is quite similar, around 58 calls per month.\n",
    "- There is an increase in call for both plans as the months go by, with December being the highest month for both.\n",
    "- The interquartile range for the Surf plan is wider than that of the Ultimate plan."
   ]
  },
  {
   "cell_type": "markdown",
   "metadata": {},
   "source": [
    "#### Minutes - Surf Vs Ultimate"
   ]
  },
  {
   "cell_type": "code",
   "execution_count": 29,
   "metadata": {},
   "outputs": [
    {
     "data": {
      "image/png": "[encoded data removed]",
      "text/plain": [
       "<Figure size 1200x600 with 2 Axes>"
      ]
     },
     "metadata": {},
     "output_type": "display_data"
    }
   ],
   "source": [
    "# Getting Dataset\n",
    "minutes_mean = df_summary.groupby(['month','plan_name'])['duration'].mean().reset_index()\n",
    "\n",
    "# Plans\n",
    "surf_mean_minutes = minutes_mean[minutes_mean['plan_name'] == 'surf']\n",
    "ultimate_mean_minutes = minutes_mean[minutes_mean['plan_name'] == 'ultimate']\n",
    "\n",
    "comparative_plans_bar_char(set_1 = surf_mean_minutes,\n",
    "                           color_1 = 'teal',\n",
    "                           set_2 = ultimate_mean_minutes,\n",
    "                           color_2 = 'lightseagreen',\n",
    "                           field = 'duration',\n",
    "                           y_label = 'Minutes',\n",
    "                           title = 'Average minutes used per month')"
   ]
  },
  {
   "cell_type": "code",
   "execution_count": 47,
   "metadata": {},
   "outputs": [
    {
     "data": {
      "image/png": "[encoded data removed]",
      "text/plain": [
       "<Figure size 640x480 with 1 Axes>"
      ]
     },
     "metadata": {},
     "output_type": "display_data"
    }
   ],
   "source": [
    "# Getting Dataset\n",
    "minutes_summary = df_summary[['plan_name','duration']] \n",
    "\n",
    "# Plans\n",
    "surf_minutes_sumary = minutes_summary[minutes_summary['plan_name'] == 'surf']\n",
    "ultimate_minutes_sumary = minutes_summary[minutes_summary['plan_name'] == 'ultimate']\n",
    "\n",
    "comparative_plans_hist_char(set_1= surf_minutes_sumary,\n",
    "                            color_1='teal',\n",
    "                            set_2 = ultimate_minutes_sumary,\n",
    "                            color_2='lightseagreen',\n",
    "                            field ='duration',\n",
    "                            x_label='Minutes (Intervals of 100)',\n",
    "                            y_label='Users',\n",
    "                            title='Distribution of minutes used per plan',\n",
    "                            bins=14,\n",
    "                            )"
   ]
  },
  {
   "cell_type": "code",
   "execution_count": 31,
   "metadata": {},
   "outputs": [
    {
     "name": "stdout",
     "output_type": "stream",
     "text": [
      "Comparative metric's table: \n",
      "\n",
      "           Median      Var\n",
      "Surf      389.08  4745.88\n",
      "Ultimate  390.47  4891.08\n"
     ]
    },
    {
     "data": {
      "image/png": "[encoded data removed]",
      "text/plain": [
       "<Figure size 1200x600 with 2 Axes>"
      ]
     },
     "metadata": {},
     "output_type": "display_data"
    }
   ],
   "source": [
    "# Getting metric charts\n",
    "basic_metrics(set_1 = surf_mean_minutes,\n",
    "            color_1 ='teal',\n",
    "            set_2 = ultimate_mean_minutes,\n",
    "            color_2='lightseagreen',\n",
    "            x_label = 'Minutes',\n",
    "            field = 'duration')"
   ]
  },
  {
   "cell_type": "markdown",
   "metadata": {},
   "source": [
    "Remarks\n",
    "\n",
    "_Considering that the Surf plan includes 500 minutes and the Ultimate plan includes 3,000 minutes, the following observations were made:_\n",
    "\n",
    "- The minutes distribution for both plans is left-skewed relative to their mean values.\n",
    "- The average for both plans is quite similar, around 390 minutes per month.\n",
    "- There is an increase in minutes for both plans as the months go by, with December being the highest month for both.\n",
    "- Many Surf plan users exceed their 500-minute allowance, resulting in additional charges.\n",
    "- None of the Ultimate plan users exceed their 3000-minute allowance.\n",
    "- The interquartile range for the Surf plan is wider than that of the Ultimate plan."
   ]
  },
  {
   "cell_type": "markdown",
   "metadata": {},
   "source": [
    "### SMS sent per plan"
   ]
  },
  {
   "cell_type": "markdown",
   "metadata": {},
   "source": [
    "#### SMS - Surf Vs Ultimate"
   ]
  },
  {
   "cell_type": "code",
   "execution_count": 32,
   "metadata": {},
   "outputs": [
    {
     "data": {
      "image/png": "[encoded data removed]",
      "text/plain": [
       "<Figure size 1200x600 with 2 Axes>"
      ]
     },
     "metadata": {},
     "output_type": "display_data"
    }
   ],
   "source": [
    "# Getting Dataset\n",
    "messages_mean = df_summary.groupby(['month','plan_name'])['messages'].mean().reset_index()\n",
    "\n",
    "# Plans\n",
    "surf_mean_messages = messages_mean[messages_mean['plan_name'] == 'surf']\n",
    "ultimate_mean_messages = messages_mean[messages_mean['plan_name'] == 'ultimate']\n",
    "comparative_plans_bar_char(set_1 = surf_mean_messages,\n",
    "                            color_1 = 'olivedrab',\n",
    "                            set_2 = ultimate_mean_messages,\n",
    "                            color_2 = 'yellowgreen',\n",
    "                            field = 'messages',\n",
    "                            y_label = 'SMS',\n",
    "                            title = \"Average SMS used per month\",\n",
    ")\n",
    "\n"
   ]
  },
  {
   "cell_type": "code",
   "execution_count": 48,
   "metadata": {},
   "outputs": [
    {
     "data": {
      "image/png": "[encoded data removed]",
      "text/plain": [
       "<Figure size 640x480 with 1 Axes>"
      ]
     },
     "metadata": {},
     "output_type": "display_data"
    }
   ],
   "source": [
    "# Getting Dataset\n",
    "message_summary = df_summary[['plan_name','messages']] \n",
    "\n",
    "# Plans\n",
    "surf_message_sumary = message_summary[message_summary['plan_name'] == 'surf']\n",
    "ultimate_message_sumary = message_summary[message_summary['plan_name'] == 'ultimate']\n",
    "\n",
    "comparative_plans_hist_char(set_1= surf_message_sumary,\n",
    "                            color_1='olivedrab',\n",
    "                            set_2 = ultimate_message_sumary,\n",
    "                            color_2='yellowgreen',\n",
    "                            field ='messages',\n",
    "                            x_label='Messages (Intervals of 25)',\n",
    "                            y_label='Users',\n",
    "                            title='Distribution of SMS sent per plan',\n",
    "                            bins=10,\n",
    "                            )"
   ]
  },
  {
   "cell_type": "code",
   "execution_count": 34,
   "metadata": {},
   "outputs": [
    {
     "name": "stdout",
     "output_type": "stream",
     "text": [
      "Comparative metric's table: \n",
      "\n",
      "           Median    Var\n",
      "Surf       26.17  75.06\n",
      "Ultimate   32.47  80.07\n"
     ]
    },
    {
     "data": {
      "image/png": "[encoded data removed]",
      "text/plain": [
       "<Figure size 1200x600 with 2 Axes>"
      ]
     },
     "metadata": {},
     "output_type": "display_data"
    }
   ],
   "source": [
    "# Getting metric charts\n",
    "basic_metrics(set_1 = surf_mean_messages,\n",
    "            color_1 ='olivedrab',\n",
    "            set_2 = ultimate_mean_messages,\n",
    "            color_2='yellowgreen',\n",
    "            x_label = 'SMS',\n",
    "            field = 'messages')"
   ]
  },
  {
   "cell_type": "markdown",
   "metadata": {},
   "source": [
    "Remarks\n",
    "\n",
    "_Considering that the Surf plan includes 50 messages and the Ultimate plan includes 1,000 messages, the following observations were made:_\n",
    "\n",
    "- The message distribution for both plans is slightly left-skewed relative to their mean values.\n",
    "- The average for both plans is more spread out compared to the average of the calls.\n",
    "- There is a more uniform increase in the number of messages over the months for the Surf plan, while it is more irregular for the Ultimate plan. However, December is the month with the highest number of messages for both plans.\n",
    "- None of the plans exceeds the allowed message limit.\n",
    "- The interquartile range is very similar for both cases."
   ]
  },
  {
   "cell_type": "markdown",
   "metadata": {},
   "source": [
    "### GB used per plan"
   ]
  },
  {
   "cell_type": "markdown",
   "metadata": {},
   "source": [
    "#### GBs - Surf Vs Ultimate"
   ]
  },
  {
   "cell_type": "code",
   "execution_count": 35,
   "metadata": {},
   "outputs": [
    {
     "data": {
      "image/png": "[encoded data removed]",
      "text/plain": [
       "<Figure size 1200x600 with 2 Axes>"
      ]
     },
     "metadata": {},
     "output_type": "display_data"
    }
   ],
   "source": [
    "# Getting Dataset\n",
    "gbs_mean = df_summary.groupby(['month','plan_name'])['gb_used'].mean().reset_index()\n",
    "\n",
    "# Plans\n",
    "surf_mean_gbs = gbs_mean[gbs_mean['plan_name'] == 'surf']\n",
    "ultimate_mean_gbs = gbs_mean[gbs_mean['plan_name'] == 'ultimate']\n",
    "comparative_plans_bar_char(set_1 = surf_mean_gbs,\n",
    "                            color_1 = 'orangered',\n",
    "                            set_2 = ultimate_mean_gbs,\n",
    "                            color_2 = 'lightcoral',\n",
    "                            field = 'gb_used',\n",
    "                            y_label = 'GBs',\n",
    "                            title = \"Average GBs used per month\",\n",
    ")"
   ]
  },
  {
   "cell_type": "code",
   "execution_count": 49,
   "metadata": {},
   "outputs": [
    {
     "data": {
      "image/png": "[encoded data removed]",
      "text/plain": [
       "<Figure size 640x480 with 1 Axes>"
      ]
     },
     "metadata": {},
     "output_type": "display_data"
    }
   ],
   "source": [
    "# Getting Dataset\n",
    "gbs_summary = df_summary[['plan_name','gb_used']] \n",
    "\n",
    "# Plans\n",
    "surf_gbs_sumary = gbs_summary[gbs_summary['plan_name'] == 'surf']\n",
    "ultimate_gbs_sumary = gbs_summary[gbs_summary['plan_name'] == 'ultimate']\n",
    "\n",
    "comparative_plans_hist_char(set_1= surf_gbs_sumary,\n",
    "                            color_1='orangered',\n",
    "                            set_2 = ultimate_gbs_sumary,\n",
    "                            color_2='lightcoral',\n",
    "                            field ='gb_used',\n",
    "                            x_label='GBs (Intervals of 7)',\n",
    "                            y_label='Users',\n",
    "                            title='Distribution of GBs used per plan',\n",
    "                            bins=7,\n",
    "                            )"
   ]
  },
  {
   "cell_type": "code",
   "execution_count": 37,
   "metadata": {},
   "outputs": [
    {
     "name": "stdout",
     "output_type": "stream",
     "text": [
      "Comparative metric's table: \n",
      "\n",
      "           Median    Var\n",
      "Surf       15.45  11.60\n",
      "Ultimate   16.60   8.17\n"
     ]
    },
    {
     "data": {
      "image/png": "[encoded data removed]",
      "text/plain": [
       "<Figure size 1200x600 with 2 Axes>"
      ]
     },
     "metadata": {},
     "output_type": "display_data"
    }
   ],
   "source": [
    "# Getting metric charts\n",
    "basic_metrics(set_1 = surf_mean_gbs,\n",
    "            color_1 ='orangered',\n",
    "            set_2 = ultimate_mean_gbs,\n",
    "            color_2='lightcoral',\n",
    "            x_label = 'GBs',\n",
    "            field = 'gb_used')"
   ]
  },
  {
   "cell_type": "markdown",
   "metadata": {},
   "source": [
    "Remarks\n",
    "\n",
    "_Considering that the Surf plan offers 15GB and the Ultimate plan offers 30GB, the following observations were made:_\n",
    "\n",
    "- The distribution of GB usage for the Surf plan is left-skewed and has greater dispersion among its data.\n",
    "- The distribution of GB usage for the Ultimate plan is slightly left-skewed, with less data dispersion.\n",
    "- The average for both plans is pretty similar.\n",
    "- There is an upward trend in data consumption for the Surf plan as the months progress, with December being the month with the highest average data usage.\n",
    "- The Ultimate plan maintains relatively consistent data usage throughout the year, with the highest consumption occurring in March and December.\n",
    "- On average, Surf plan users do not exceed their monthly data limit, while Ultimate plan users do not exceed their allowance."
   ]
  },
  {
   "cell_type": "markdown",
   "metadata": {},
   "source": [
    "### Income get per plan"
   ]
  },
  {
   "cell_type": "markdown",
   "metadata": {},
   "source": [
    "#### Income - Surf Vs Ultimate"
   ]
  },
  {
   "cell_type": "code",
   "execution_count": 38,
   "metadata": {},
   "outputs": [
    {
     "data": {
      "image/png": "[encoded data removed]",
      "text/plain": [
       "<Figure size 1200x600 with 2 Axes>"
      ]
     },
     "metadata": {},
     "output_type": "display_data"
    }
   ],
   "source": [
    "# Getting Dataset\n",
    "income_mean = df_summary.groupby(['month','plan_name'])['monthly_income'].mean().reset_index()\n",
    "\n",
    "# Plans\n",
    "surf_mean_income = income_mean[income_mean['plan_name'] == 'surf']\n",
    "ultimate_mean_income = income_mean[income_mean['plan_name'] == 'ultimate']\n",
    "\n",
    "comparative_plans_bar_char(set_1 = surf_mean_income,\n",
    "                            color_1 = 'goldenrod',\n",
    "                            set_2 = ultimate_mean_income,\n",
    "                            color_2 = 'gold',\n",
    "                            field = 'monthly_income',\n",
    "                            y_label = 'GBs',\n",
    "                            title = \"Average income per month\",\n",
    ")"
   ]
  },
  {
   "cell_type": "code",
   "execution_count": 50,
   "metadata": {},
   "outputs": [
    {
     "data": {
      "image/png": "[encoded data removed]",
      "text/plain": [
       "<Figure size 640x480 with 1 Axes>"
      ]
     },
     "metadata": {},
     "output_type": "display_data"
    }
   ],
   "source": [
    "# Getting Dataset\n",
    "income_summary = df_summary[['plan_name','monthly_income']] \n",
    "\n",
    "# Plans\n",
    "surf_income_sumary = income_summary[income_summary['plan_name'] == 'surf']\n",
    "ultimate_income_sumary = income_summary[income_summary['plan_name'] == 'ultimate']\n",
    "\n",
    "comparative_plans_hist_char(set_1= surf_income_sumary,\n",
    "                            color_1='goldenrod',\n",
    "                            set_2 = ultimate_income_sumary,\n",
    "                            color_2='gold',\n",
    "                            field ='monthly_income',\n",
    "                            x_label='Dollars (Intervals of 7)',\n",
    "                            y_label='Users',\n",
    "                            title='Distribution of income get per plan',\n",
    "                            bins=6,\n",
    "                            )"
   ]
  },
  {
   "cell_type": "code",
   "execution_count": 40,
   "metadata": {},
   "outputs": [
    {
     "name": "stdout",
     "output_type": "stream",
     "text": [
      "Comparative metric's table: \n",
      "\n",
      "           Median     Var\n",
      "Surf       53.28  194.71\n",
      "Ultimate   71.97    1.71\n"
     ]
    },
    {
     "data": {
      "image/png": "[encoded data removed]",
      "text/plain": [
       "<Figure size 1200x600 with 2 Axes>"
      ]
     },
     "metadata": {},
     "output_type": "display_data"
    }
   ],
   "source": [
    "# Getting metric charts\n",
    "basic_metrics(set_1 = surf_mean_income,\n",
    "            color_1 ='goldenrod',\n",
    "            set_2 = ultimate_mean_income,\n",
    "            color_2='gold',\n",
    "            x_label = 'Income (DLS)',\n",
    "            field = 'monthly_income')"
   ]
  },
  {
   "cell_type": "markdown",
   "metadata": {},
   "source": [
    "Remarks\n",
    "\n",
    "_Considering that the Surf plan costs $20 and the Ultimate plan costs $70, the following observations were made_\n",
    "\n",
    "- The distribution of Surf plan revenues is slightly righ-skewed.\n",
    "- The distribution of Ultimate plan revenues is right-skewed.\n",
    "- The Surf plan has greater revenue dispersion.\n",
    "- The Ultimate plan has lower revenue dispersion.\n",
    "- Surf plan users pay more over the months, with December being the month where they pay, on average, three times the package cost.\n",
    "- Most Ultimate plan users generally stay close to the $70 mark, with March being the month with the highest average revenue.\n",
    "- The interquartile range for the Surf plan is much larger than for the Ultimate plan."
   ]
  },
  {
   "cell_type": "markdown",
   "metadata": {},
   "source": [
    "## HYPOTHESIS"
   ]
  },
  {
   "cell_type": "code",
   "execution_count": 41,
   "metadata": {},
   "outputs": [
    {
     "name": "stdout",
     "output_type": "stream",
     "text": [
      "valor p:  0.00041442906078868893 \n",
      "\n",
      "We reject the null hypothesis: The average income of both plans does not change. \n"
     ]
    }
   ],
   "source": [
    "# Test the Hypothesis\n",
    "# Equality of the means of two populations\n",
    "# Null Hypothesis (H₀): The average income of both plans does not change.\n",
    "# Alternative Hypothesis (H₁): The average income of both plans is different.\n",
    "\n",
    "alpha = 0.05\n",
    "\n",
    "results = st.ttest_ind(ultimate_mean_income['monthly_income'], surf_mean_income['monthly_income'], equal_var = False) \n",
    "\n",
    "print('valor p: ', results.pvalue, '\\n')\n",
    "\n",
    "# Testing Null Hypothesis\n",
    "if results.pvalue < alpha:\n",
    "    print(\"We reject the null hypothesis: The average income of both plans does not change. \")\n",
    "else:\n",
    "    print(\"We fail to reject the null hypothesis: The average income of both plans does not change.\")"
   ]
  },
  {
   "cell_type": "code",
   "execution_count": 42,
   "metadata": {},
   "outputs": [],
   "source": [
    "# Prueba las hipótesis\n",
    "\n",
    "# Null Hypothesis (H₀): The average income of NY-NJ is the same as that of other cities.\n",
    "# Alternative Hypothesis (H₁): The average income of NY-NJ is different from that of other cities.\n",
    "# NEW YORK-NEWARK-JERSEY CITY, NY-NJ-PA MSA - 49.329515\n",
    "\n",
    "\n",
    "def ny_nj_vs_other_cities(city_name,df):\n",
    "    alpha = 0.05\n",
    "    \n",
    "    # Getting Dataset\n",
    "    ny_nj_mean = df.groupby('city')['monthly_income'].mean().reset_index()\n",
    "\n",
    "    # Getting income for NY-NJ\n",
    "    ny_nj_mean = ny_nj_mean[ny_nj_mean['city'] == 'NEW YORK-NEWARK-JERSEY CITY, NY-NJ-PA MSA']['monthly_income'].values\n",
    "\n",
    "     # Getting income for city to compare\n",
    "    other_city = df[df['city'] == city_name]['monthly_income']\n",
    "\n",
    "\n",
    "    results = st.ttest_1samp (other_city, ny_nj_mean)\n",
    "    \n",
    "    # Testing Null Hypothesis\n",
    "    if (results.pvalue < alpha):\n",
    "        return print('valor p: ', results.pvalue , '\\n') , print(\"We reject the null hypothesis: 'The average income of NY-NJ is equal to that of the city' >>\", city_name)\n",
    "    else:\n",
    "        return print('valor p: ', results.pvalue, '\\n') , print(\"We fail to reject the null hypothesis: 'The average income of NY-NJ is equal to that of the city' >>\", city_name)"
   ]
  },
  {
   "cell_type": "code",
   "execution_count": 43,
   "metadata": {},
   "outputs": [
    {
     "data": {
      "text/html": [
       "<div>\n",
       "<style scoped>\n",
       "    .dataframe tbody tr th:only-of-type {\n",
       "        vertical-align: middle;\n",
       "    }\n",
       "\n",
       "    .dataframe tbody tr th {\n",
       "        vertical-align: top;\n",
       "    }\n",
       "\n",
       "    .dataframe thead th {\n",
       "        text-align: right;\n",
       "    }\n",
       "</style>\n",
       "<table border=\"1\" class=\"dataframe\">\n",
       "  <thead>\n",
       "    <tr style=\"text-align: right;\">\n",
       "      <th></th>\n",
       "      <th>city</th>\n",
       "      <th>monthly_income</th>\n",
       "    </tr>\n",
       "  </thead>\n",
       "  <tbody>\n",
       "    <tr>\n",
       "      <th>70</th>\n",
       "      <td>URBAN HONOLULU, HI MSA</td>\n",
       "      <td>112.402381</td>\n",
       "    </tr>\n",
       "    <tr>\n",
       "      <th>65</th>\n",
       "      <td>ST. LOUIS, MO-IL MSA</td>\n",
       "      <td>79.142727</td>\n",
       "    </tr>\n",
       "    <tr>\n",
       "      <th>23</th>\n",
       "      <td>DETROIT-WARREN-DEARBORN, MI MSA</td>\n",
       "      <td>51.127500</td>\n",
       "    </tr>\n",
       "    <tr>\n",
       "      <th>53</th>\n",
       "      <td>PROVIDENCE-WARWICK, RI-MA MSA</td>\n",
       "      <td>82.195455</td>\n",
       "    </tr>\n",
       "    <tr>\n",
       "      <th>60</th>\n",
       "      <td>SAN ANTONIO-NEW BRAUNFELS, TX MSA</td>\n",
       "      <td>70.331176</td>\n",
       "    </tr>\n",
       "  </tbody>\n",
       "</table>\n",
       "</div>"
      ],
      "text/plain": [
       "                                 city  monthly_income\n",
       "70             URBAN HONOLULU, HI MSA      112.402381\n",
       "65               ST. LOUIS, MO-IL MSA       79.142727\n",
       "23    DETROIT-WARREN-DEARBORN, MI MSA       51.127500\n",
       "53      PROVIDENCE-WARWICK, RI-MA MSA       82.195455\n",
       "60  SAN ANTONIO-NEW BRAUNFELS, TX MSA       70.331176"
      ]
     },
     "execution_count": 43,
     "metadata": {},
     "output_type": "execute_result"
    }
   ],
   "source": [
    "#Unimos a nuestro data frame summary las ciudades del df_users\n",
    "df_summary_city = df_summary.merge(df_users[['user_id','city']],on='user_id',how='left')\n",
    "\n",
    "#Mostramos una lista aleatoria de 5 ciudades para poder extraer el nombre y probar nuestra funcion\n",
    "city_mean = df_summary_city.groupby('city')['monthly_income'].mean().reset_index()\n",
    "city_mean.sample(5)"
   ]
  },
  {
   "cell_type": "code",
   "execution_count": 44,
   "metadata": {},
   "outputs": [
    {
     "name": "stdout",
     "output_type": "stream",
     "text": [
      "valor p:  0.6744676785723875 \n",
      "\n",
      "We fail to reject the null hypothesis: 'The average income of NY-NJ is equal to that of the city' >> AUSTIN-ROUND ROCK-GEORGETOWN, TX MSA\n"
     ]
    },
    {
     "data": {
      "text/plain": [
       "(None, None)"
      ]
     },
     "execution_count": 44,
     "metadata": {},
     "output_type": "execute_result"
    }
   ],
   "source": [
    "#Probamos nuestra funcion con cada cicudad que queramos\n",
    "city = 'AUSTIN-ROUND ROCK-GEORGETOWN, TX MSA'\n",
    "ny_nj_vs_other_cities(city,df_summary_city)"
   ]
  },
  {
   "cell_type": "markdown",
   "metadata": {},
   "source": [
    "Remarks\n",
    "\n",
    "_Returning to the initial question: Which is the best plan? We can conclude that..._\n",
    "\n",
    "- Users with the Surf plan should not switch to the Ultimate plan, as they would spend at least $70 on average per month with the Ultimate plan. Even if Surf plan users exceed their limits for calls, MB, and messages, they still pay less than Ultimate plan users.\n",
    "- The months closest to December are when the company earns the most from the Surf plan, while the revenue flow for the Ultimate plan is more stable throughout the year.\n",
    "- When comparing the plans, it is noticeable that there are more users on the Surf plan than on the Ultimate plan. However, the Ultimate plan generates higher revenue with-  fewer users.\n",
    "- In general, it is more beneficial for users to choose the Surf plan.\n",
    "- Meanwhile, the company should consider promotional strategies to encourage more people to switch to the Ultimate plan, thereby generating more revenue"
   ]
  }
 ],
 "metadata": {
  "kernelspec": {
   "display_name": "Python 3",
   "language": "python",
   "name": "python3"
  },
  "language_info": {
   "codemirror_mode": {
    "name": "ipython",
    "version": 3
   },
   "file_extension": ".py",
   "mimetype": "text/x-python",
   "name": "python",
   "nbconvert_exporter": "python",
   "pygments_lexer": "ipython3",
   "version": "3.11.9"
  }
 },
 "nbformat": 4,
 "nbformat_minor": 2
}
